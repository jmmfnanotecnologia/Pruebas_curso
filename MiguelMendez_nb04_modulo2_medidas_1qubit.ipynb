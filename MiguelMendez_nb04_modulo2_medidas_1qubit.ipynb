{
  "cells": [
    {
      "cell_type": "markdown",
      "metadata": {
        "id": "view-in-github",
        "colab_type": "text"
      },
      "source": [
        "<a href=\"https://colab.research.google.com/github/jmmfnanotecnologia/Pruebas_curso/blob/main/MiguelMendez_nb04_modulo2_medidas_1qubit.ipynb\" target=\"_parent\"><img src=\"https://colab.research.google.com/assets/colab-badge.svg\" alt=\"Open In Colab\"/></a>"
      ]
    },
    {
      "cell_type": "markdown",
      "id": "ae2c465a-5e5e-4e68-a4f1-b2249651ceb9",
      "metadata": {
        "id": "ae2c465a-5e5e-4e68-a4f1-b2249651ceb9"
      },
      "source": [
        "<a id='sec_Notebooks_Circ_1_qubit'></a>\n",
        "# Mediciones en circuitos de un qubit\n",
        "$\\newcommand{\\ket}[1]{|#1\\rangle}$"
      ]
    },
    {
      "cell_type": "code",
      "execution_count": null,
      "id": "cdfc07da-b773-4048-a6b8-1258f41edd85",
      "metadata": {
        "colab": {
          "base_uri": "https://localhost:8080/"
        },
        "id": "cdfc07da-b773-4048-a6b8-1258f41edd85",
        "outputId": "c15b89c2-1eca-4ccd-a249-f4b39c26b19b"
      },
      "outputs": [
        {
          "output_type": "stream",
          "name": "stdout",
          "text": [
            "In colab, let's install things...\n",
            "Collecting qiskit==0.45.2 (from qiskit[visualization]==0.45.2)\n",
            "  Downloading qiskit-0.45.2-py3-none-any.whl.metadata (12 kB)\n",
            "Collecting qiskit-aer\n",
            "  Downloading qiskit_aer-0.15.1-cp310-cp310-manylinux_2_17_x86_64.manylinux2014_x86_64.whl.metadata (8.0 kB)\n",
            "Collecting qiskit-ibm-runtime\n",
            "  Downloading qiskit_ibm_runtime-0.32.0-py3-none-any.whl.metadata (19 kB)\n",
            "Collecting qiskit-terra==0.45.2 (from qiskit==0.45.2->qiskit[visualization]==0.45.2)\n",
            "  Downloading qiskit_terra-0.45.2-cp38-abi3-manylinux_2_17_x86_64.manylinux2014_x86_64.whl.metadata (12 kB)\n",
            "Collecting rustworkx>=0.13.0 (from qiskit-terra==0.45.2->qiskit==0.45.2->qiskit[visualization]==0.45.2)\n",
            "  Downloading rustworkx-0.15.1-cp38-abi3-manylinux_2_17_x86_64.manylinux2014_x86_64.whl.metadata (9.9 kB)\n",
            "Requirement already satisfied: numpy<2,>=1.17 in /usr/local/lib/python3.10/dist-packages (from qiskit-terra==0.45.2->qiskit==0.45.2->qiskit[visualization]==0.45.2) (1.26.4)\n",
            "Collecting ply>=3.10 (from qiskit-terra==0.45.2->qiskit==0.45.2->qiskit[visualization]==0.45.2)\n",
            "  Downloading ply-3.11-py2.py3-none-any.whl.metadata (844 bytes)\n",
            "Requirement already satisfied: psutil>=5 in /usr/local/lib/python3.10/dist-packages (from qiskit-terra==0.45.2->qiskit==0.45.2->qiskit[visualization]==0.45.2) (5.9.5)\n",
            "Requirement already satisfied: scipy>=1.5 in /usr/local/lib/python3.10/dist-packages (from qiskit-terra==0.45.2->qiskit==0.45.2->qiskit[visualization]==0.45.2) (1.13.1)\n",
            "Requirement already satisfied: sympy>=1.3 in /usr/local/lib/python3.10/dist-packages (from qiskit-terra==0.45.2->qiskit==0.45.2->qiskit[visualization]==0.45.2) (1.13.1)\n",
            "Collecting dill>=0.3 (from qiskit-terra==0.45.2->qiskit==0.45.2->qiskit[visualization]==0.45.2)\n",
            "  Downloading dill-0.3.9-py3-none-any.whl.metadata (10 kB)\n",
            "Requirement already satisfied: python-dateutil>=2.8.0 in /usr/local/lib/python3.10/dist-packages (from qiskit-terra==0.45.2->qiskit==0.45.2->qiskit[visualization]==0.45.2) (2.8.2)\n",
            "Collecting stevedore>=3.0.0 (from qiskit-terra==0.45.2->qiskit==0.45.2->qiskit[visualization]==0.45.2)\n",
            "  Downloading stevedore-5.3.0-py3-none-any.whl.metadata (2.3 kB)\n",
            "Collecting symengine!=0.10.0,>=0.9 (from qiskit-terra==0.45.2->qiskit==0.45.2->qiskit[visualization]==0.45.2)\n",
            "  Downloading symengine-0.13.0-cp310-cp310-manylinux_2_17_x86_64.manylinux2014_x86_64.whl.metadata (1.2 kB)\n",
            "Requirement already satisfied: typing-extensions in /usr/local/lib/python3.10/dist-packages (from qiskit-terra==0.45.2->qiskit==0.45.2->qiskit[visualization]==0.45.2) (4.12.2)\n",
            "INFO: pip is looking at multiple versions of qiskit-aer to determine which version is compatible with other requirements. This could take a while.\n",
            "Collecting qiskit-aer\n",
            "  Downloading qiskit_aer-0.15.0-cp310-cp310-manylinux_2_17_x86_64.manylinux2014_x86_64.whl.metadata (8.0 kB)\n",
            "  Downloading qiskit_aer-0.14.2-cp310-cp310-manylinux_2_17_x86_64.manylinux2014_x86_64.whl.metadata (8.1 kB)\n",
            "Requirement already satisfied: requests>=2.19 in /usr/local/lib/python3.10/dist-packages (from qiskit-ibm-runtime) (2.32.3)\n",
            "Collecting requests-ntlm>=1.1.0 (from qiskit-ibm-runtime)\n",
            "  Downloading requests_ntlm-1.3.0-py3-none-any.whl.metadata (2.4 kB)\n",
            "Requirement already satisfied: urllib3>=1.21.1 in /usr/local/lib/python3.10/dist-packages (from qiskit-ibm-runtime) (2.2.3)\n",
            "Requirement already satisfied: websocket-client>=1.5.1 in /usr/local/lib/python3.10/dist-packages (from qiskit-ibm-runtime) (1.8.0)\n",
            "Collecting ibm-platform-services>=0.22.6 (from qiskit-ibm-runtime)\n",
            "  Downloading ibm_platform_services-0.59.0-py3-none-any.whl.metadata (9.0 kB)\n",
            "Requirement already satisfied: pydantic>=2.5.0 in /usr/local/lib/python3.10/dist-packages (from qiskit-ibm-runtime) (2.9.2)\n",
            "INFO: pip is looking at multiple versions of qiskit-ibm-runtime to determine which version is compatible with other requirements. This could take a while.\n",
            "Collecting qiskit-ibm-runtime\n",
            "  Downloading qiskit_ibm_runtime-0.31.0-py3-none-any.whl.metadata (19 kB)\n",
            "  Downloading qiskit_ibm_runtime-0.30.0-py3-none-any.whl.metadata (19 kB)\n",
            "  Downloading qiskit_ibm_runtime-0.29.1-py3-none-any.whl.metadata (19 kB)\n",
            "  Downloading qiskit_ibm_runtime-0.29.0-py3-none-any.whl.metadata (19 kB)\n",
            "  Downloading qiskit_ibm_runtime-0.28.0-py3-none-any.whl.metadata (19 kB)\n",
            "  Downloading qiskit_ibm_runtime-0.27.1-py3-none-any.whl.metadata (19 kB)\n",
            "  Downloading qiskit_ibm_runtime-0.27.0-py3-none-any.whl.metadata (19 kB)\n",
            "INFO: pip is still looking at multiple versions of qiskit-ibm-runtime to determine which version is compatible with other requirements. This could take a while.\n",
            "  Downloading qiskit_ibm_runtime-0.26.0-py3-none-any.whl.metadata (19 kB)\n",
            "  Downloading qiskit_ibm_runtime-0.25.0-py3-none-any.whl.metadata (19 kB)\n",
            "  Downloading qiskit_ibm_runtime-0.24.1-py3-none-any.whl.metadata (19 kB)\n",
            "  Downloading qiskit_ibm_runtime-0.24.0-py3-none-any.whl.metadata (19 kB)\n",
            "  Downloading qiskit_ibm_runtime-0.23.0-py3-none-any.whl.metadata (19 kB)\n",
            "INFO: This is taking longer than usual. You might need to provide the dependency resolver with stricter constraints to reduce runtime. See https://pip.pypa.io/warnings/backtracking for guidance. If you want to abort this run, press Ctrl + C.\n",
            "  Downloading qiskit_ibm_runtime-0.22.0-py3-none-any.whl.metadata (19 kB)\n",
            "  Downloading qiskit_ibm_runtime-0.21.2-py3-none-any.whl.metadata (19 kB)\n",
            "  Downloading qiskit_ibm_runtime-0.21.1-py3-none-any.whl.metadata (19 kB)\n",
            "  Downloading qiskit_ibm_runtime-0.21.0-py3-none-any.whl.metadata (19 kB)\n",
            "  Downloading qiskit_ibm_runtime-0.20.0-py3-none-any.whl.metadata (18 kB)\n",
            "Collecting ibm-cloud-sdk-core<4.0.0,>=3.22.0 (from ibm-platform-services>=0.22.6->qiskit-ibm-runtime)\n",
            "  Downloading ibm_cloud_sdk_core-3.22.0-py3-none-any.whl.metadata (8.6 kB)\n",
            "Requirement already satisfied: six>=1.5 in /usr/local/lib/python3.10/dist-packages (from python-dateutil>=2.8.0->qiskit-terra==0.45.2->qiskit==0.45.2->qiskit[visualization]==0.45.2) (1.16.0)\n",
            "Requirement already satisfied: charset-normalizer<4,>=2 in /usr/local/lib/python3.10/dist-packages (from requests>=2.19->qiskit-ibm-runtime) (3.4.0)\n",
            "Requirement already satisfied: idna<4,>=2.5 in /usr/local/lib/python3.10/dist-packages (from requests>=2.19->qiskit-ibm-runtime) (3.10)\n",
            "Requirement already satisfied: certifi>=2017.4.17 in /usr/local/lib/python3.10/dist-packages (from requests>=2.19->qiskit-ibm-runtime) (2024.8.30)\n",
            "Requirement already satisfied: cryptography>=1.3 in /usr/local/lib/python3.10/dist-packages (from requests-ntlm>=1.1.0->qiskit-ibm-runtime) (43.0.3)\n",
            "Collecting pyspnego>=0.4.0 (from requests-ntlm>=1.1.0->qiskit-ibm-runtime)\n",
            "  Downloading pyspnego-0.11.1-py3-none-any.whl.metadata (5.4 kB)\n",
            "Requirement already satisfied: matplotlib>=3.3 in /usr/local/lib/python3.10/dist-packages (from qiskit-terra[visualization]; extra == \"visualization\"->qiskit[visualization]==0.45.2) (3.8.0)\n",
            "Requirement already satisfied: ipywidgets>=7.3.0 in /usr/local/lib/python3.10/dist-packages (from qiskit-terra[visualization]; extra == \"visualization\"->qiskit[visualization]==0.45.2) (7.7.1)\n",
            "Requirement already satisfied: pydot in /usr/local/lib/python3.10/dist-packages (from qiskit-terra[visualization]; extra == \"visualization\"->qiskit[visualization]==0.45.2) (3.0.2)\n",
            "Requirement already satisfied: pillow>=4.2.1 in /usr/local/lib/python3.10/dist-packages (from qiskit-terra[visualization]; extra == \"visualization\"->qiskit[visualization]==0.45.2) (10.4.0)\n",
            "Collecting pylatexenc>=1.4 (from qiskit-terra[visualization]; extra == \"visualization\"->qiskit[visualization]==0.45.2)\n",
            "  Downloading pylatexenc-2.10.tar.gz (162 kB)\n",
            "\u001b[2K     \u001b[90m━━━━━━━━━━━━━━━━━━━━━━━━━━━━━━━━━━━━━━━━\u001b[0m \u001b[32m162.6/162.6 kB\u001b[0m \u001b[31m9.4 MB/s\u001b[0m eta \u001b[36m0:00:00\u001b[0m\n",
            "\u001b[?25h  Preparing metadata (setup.py) ... \u001b[?25l\u001b[?25hdone\n",
            "Requirement already satisfied: seaborn>=0.9.0 in /usr/local/lib/python3.10/dist-packages (from qiskit-terra[visualization]; extra == \"visualization\"->qiskit[visualization]==0.45.2) (0.13.2)\n",
            "Requirement already satisfied: pygments>=2.4 in /usr/local/lib/python3.10/dist-packages (from qiskit-terra[visualization]; extra == \"visualization\"->qiskit[visualization]==0.45.2) (2.18.0)\n",
            "Requirement already satisfied: cffi>=1.12 in /usr/local/lib/python3.10/dist-packages (from cryptography>=1.3->requests-ntlm>=1.1.0->qiskit-ibm-runtime) (1.17.1)\n",
            "Requirement already satisfied: PyJWT<3.0.0,>=2.8.0 in /usr/local/lib/python3.10/dist-packages (from ibm-cloud-sdk-core<4.0.0,>=3.22.0->ibm-platform-services>=0.22.6->qiskit-ibm-runtime) (2.9.0)\n",
            "Requirement already satisfied: ipykernel>=4.5.1 in /usr/local/lib/python3.10/dist-packages (from ipywidgets>=7.3.0->qiskit-terra[visualization]; extra == \"visualization\"->qiskit[visualization]==0.45.2) (5.5.6)\n",
            "Requirement already satisfied: ipython-genutils~=0.2.0 in /usr/local/lib/python3.10/dist-packages (from ipywidgets>=7.3.0->qiskit-terra[visualization]; extra == \"visualization\"->qiskit[visualization]==0.45.2) (0.2.0)\n",
            "Requirement already satisfied: traitlets>=4.3.1 in /usr/local/lib/python3.10/dist-packages (from ipywidgets>=7.3.0->qiskit-terra[visualization]; extra == \"visualization\"->qiskit[visualization]==0.45.2) (5.7.1)\n",
            "Requirement already satisfied: widgetsnbextension~=3.6.0 in /usr/local/lib/python3.10/dist-packages (from ipywidgets>=7.3.0->qiskit-terra[visualization]; extra == \"visualization\"->qiskit[visualization]==0.45.2) (3.6.10)\n",
            "Requirement already satisfied: ipython>=4.0.0 in /usr/local/lib/python3.10/dist-packages (from ipywidgets>=7.3.0->qiskit-terra[visualization]; extra == \"visualization\"->qiskit[visualization]==0.45.2) (7.34.0)\n",
            "Requirement already satisfied: jupyterlab-widgets>=1.0.0 in /usr/local/lib/python3.10/dist-packages (from ipywidgets>=7.3.0->qiskit-terra[visualization]; extra == \"visualization\"->qiskit[visualization]==0.45.2) (3.0.13)\n",
            "Requirement already satisfied: contourpy>=1.0.1 in /usr/local/lib/python3.10/dist-packages (from matplotlib>=3.3->qiskit-terra[visualization]; extra == \"visualization\"->qiskit[visualization]==0.45.2) (1.3.0)\n",
            "Requirement already satisfied: cycler>=0.10 in /usr/local/lib/python3.10/dist-packages (from matplotlib>=3.3->qiskit-terra[visualization]; extra == \"visualization\"->qiskit[visualization]==0.45.2) (0.12.1)\n",
            "Requirement already satisfied: fonttools>=4.22.0 in /usr/local/lib/python3.10/dist-packages (from matplotlib>=3.3->qiskit-terra[visualization]; extra == \"visualization\"->qiskit[visualization]==0.45.2) (4.54.1)\n",
            "Requirement already satisfied: kiwisolver>=1.0.1 in /usr/local/lib/python3.10/dist-packages (from matplotlib>=3.3->qiskit-terra[visualization]; extra == \"visualization\"->qiskit[visualization]==0.45.2) (1.4.7)\n",
            "Requirement already satisfied: packaging>=20.0 in /usr/local/lib/python3.10/dist-packages (from matplotlib>=3.3->qiskit-terra[visualization]; extra == \"visualization\"->qiskit[visualization]==0.45.2) (24.1)\n",
            "Requirement already satisfied: pyparsing>=2.3.1 in /usr/local/lib/python3.10/dist-packages (from matplotlib>=3.3->qiskit-terra[visualization]; extra == \"visualization\"->qiskit[visualization]==0.45.2) (3.2.0)\n",
            "Requirement already satisfied: pandas>=1.2 in /usr/local/lib/python3.10/dist-packages (from seaborn>=0.9.0->qiskit-terra[visualization]; extra == \"visualization\"->qiskit[visualization]==0.45.2) (2.2.2)\n",
            "Collecting pbr>=2.0.0 (from stevedore>=3.0.0->qiskit-terra==0.45.2->qiskit==0.45.2->qiskit[visualization]==0.45.2)\n",
            "  Downloading pbr-6.1.0-py2.py3-none-any.whl.metadata (3.4 kB)\n",
            "Requirement already satisfied: mpmath<1.4,>=1.1.0 in /usr/local/lib/python3.10/dist-packages (from sympy>=1.3->qiskit-terra==0.45.2->qiskit==0.45.2->qiskit[visualization]==0.45.2) (1.3.0)\n",
            "Requirement already satisfied: pycparser in /usr/local/lib/python3.10/dist-packages (from cffi>=1.12->cryptography>=1.3->requests-ntlm>=1.1.0->qiskit-ibm-runtime) (2.22)\n",
            "Requirement already satisfied: jupyter-client in /usr/local/lib/python3.10/dist-packages (from ipykernel>=4.5.1->ipywidgets>=7.3.0->qiskit-terra[visualization]; extra == \"visualization\"->qiskit[visualization]==0.45.2) (6.1.12)\n",
            "Requirement already satisfied: tornado>=4.2 in /usr/local/lib/python3.10/dist-packages (from ipykernel>=4.5.1->ipywidgets>=7.3.0->qiskit-terra[visualization]; extra == \"visualization\"->qiskit[visualization]==0.45.2) (6.3.3)\n",
            "Requirement already satisfied: setuptools>=18.5 in /usr/local/lib/python3.10/dist-packages (from ipython>=4.0.0->ipywidgets>=7.3.0->qiskit-terra[visualization]; extra == \"visualization\"->qiskit[visualization]==0.45.2) (75.1.0)\n",
            "Collecting jedi>=0.16 (from ipython>=4.0.0->ipywidgets>=7.3.0->qiskit-terra[visualization]; extra == \"visualization\"->qiskit[visualization]==0.45.2)\n",
            "  Downloading jedi-0.19.1-py2.py3-none-any.whl.metadata (22 kB)\n",
            "Requirement already satisfied: decorator in /usr/local/lib/python3.10/dist-packages (from ipython>=4.0.0->ipywidgets>=7.3.0->qiskit-terra[visualization]; extra == \"visualization\"->qiskit[visualization]==0.45.2) (4.4.2)\n",
            "Requirement already satisfied: pickleshare in /usr/local/lib/python3.10/dist-packages (from ipython>=4.0.0->ipywidgets>=7.3.0->qiskit-terra[visualization]; extra == \"visualization\"->qiskit[visualization]==0.45.2) (0.7.5)\n",
            "Requirement already satisfied: prompt-toolkit!=3.0.0,!=3.0.1,<3.1.0,>=2.0.0 in /usr/local/lib/python3.10/dist-packages (from ipython>=4.0.0->ipywidgets>=7.3.0->qiskit-terra[visualization]; extra == \"visualization\"->qiskit[visualization]==0.45.2) (3.0.48)\n",
            "Requirement already satisfied: backcall in /usr/local/lib/python3.10/dist-packages (from ipython>=4.0.0->ipywidgets>=7.3.0->qiskit-terra[visualization]; extra == \"visualization\"->qiskit[visualization]==0.45.2) (0.2.0)\n",
            "Requirement already satisfied: matplotlib-inline in /usr/local/lib/python3.10/dist-packages (from ipython>=4.0.0->ipywidgets>=7.3.0->qiskit-terra[visualization]; extra == \"visualization\"->qiskit[visualization]==0.45.2) (0.1.7)\n",
            "Requirement already satisfied: pexpect>4.3 in /usr/local/lib/python3.10/dist-packages (from ipython>=4.0.0->ipywidgets>=7.3.0->qiskit-terra[visualization]; extra == \"visualization\"->qiskit[visualization]==0.45.2) (4.9.0)\n",
            "Requirement already satisfied: pytz>=2020.1 in /usr/local/lib/python3.10/dist-packages (from pandas>=1.2->seaborn>=0.9.0->qiskit-terra[visualization]; extra == \"visualization\"->qiskit[visualization]==0.45.2) (2024.2)\n",
            "Requirement already satisfied: tzdata>=2022.7 in /usr/local/lib/python3.10/dist-packages (from pandas>=1.2->seaborn>=0.9.0->qiskit-terra[visualization]; extra == \"visualization\"->qiskit[visualization]==0.45.2) (2024.2)\n",
            "Requirement already satisfied: notebook>=4.4.1 in /usr/local/lib/python3.10/dist-packages (from widgetsnbextension~=3.6.0->ipywidgets>=7.3.0->qiskit-terra[visualization]; extra == \"visualization\"->qiskit[visualization]==0.45.2) (6.5.5)\n",
            "Requirement already satisfied: parso<0.9.0,>=0.8.3 in /usr/local/lib/python3.10/dist-packages (from jedi>=0.16->ipython>=4.0.0->ipywidgets>=7.3.0->qiskit-terra[visualization]; extra == \"visualization\"->qiskit[visualization]==0.45.2) (0.8.4)\n",
            "Requirement already satisfied: jinja2 in /usr/local/lib/python3.10/dist-packages (from notebook>=4.4.1->widgetsnbextension~=3.6.0->ipywidgets>=7.3.0->qiskit-terra[visualization]; extra == \"visualization\"->qiskit[visualization]==0.45.2) (3.1.4)\n",
            "Requirement already satisfied: pyzmq<25,>=17 in /usr/local/lib/python3.10/dist-packages (from notebook>=4.4.1->widgetsnbextension~=3.6.0->ipywidgets>=7.3.0->qiskit-terra[visualization]; extra == \"visualization\"->qiskit[visualization]==0.45.2) (24.0.1)\n",
            "Requirement already satisfied: argon2-cffi in /usr/local/lib/python3.10/dist-packages (from notebook>=4.4.1->widgetsnbextension~=3.6.0->ipywidgets>=7.3.0->qiskit-terra[visualization]; extra == \"visualization\"->qiskit[visualization]==0.45.2) (23.1.0)\n",
            "Requirement already satisfied: jupyter-core>=4.6.1 in /usr/local/lib/python3.10/dist-packages (from notebook>=4.4.1->widgetsnbextension~=3.6.0->ipywidgets>=7.3.0->qiskit-terra[visualization]; extra == \"visualization\"->qiskit[visualization]==0.45.2) (5.7.2)\n",
            "Requirement already satisfied: nbformat in /usr/local/lib/python3.10/dist-packages (from notebook>=4.4.1->widgetsnbextension~=3.6.0->ipywidgets>=7.3.0->qiskit-terra[visualization]; extra == \"visualization\"->qiskit[visualization]==0.45.2) (5.10.4)\n",
            "Requirement already satisfied: nbconvert>=5 in /usr/local/lib/python3.10/dist-packages (from notebook>=4.4.1->widgetsnbextension~=3.6.0->ipywidgets>=7.3.0->qiskit-terra[visualization]; extra == \"visualization\"->qiskit[visualization]==0.45.2) (7.16.4)\n",
            "Requirement already satisfied: nest-asyncio>=1.5 in /usr/local/lib/python3.10/dist-packages (from notebook>=4.4.1->widgetsnbextension~=3.6.0->ipywidgets>=7.3.0->qiskit-terra[visualization]; extra == \"visualization\"->qiskit[visualization]==0.45.2) (1.6.0)\n",
            "Requirement already satisfied: Send2Trash>=1.8.0 in /usr/local/lib/python3.10/dist-packages (from notebook>=4.4.1->widgetsnbextension~=3.6.0->ipywidgets>=7.3.0->qiskit-terra[visualization]; extra == \"visualization\"->qiskit[visualization]==0.45.2) (1.8.3)\n",
            "Requirement already satisfied: terminado>=0.8.3 in /usr/local/lib/python3.10/dist-packages (from notebook>=4.4.1->widgetsnbextension~=3.6.0->ipywidgets>=7.3.0->qiskit-terra[visualization]; extra == \"visualization\"->qiskit[visualization]==0.45.2) (0.18.1)\n",
            "Requirement already satisfied: prometheus-client in /usr/local/lib/python3.10/dist-packages (from notebook>=4.4.1->widgetsnbextension~=3.6.0->ipywidgets>=7.3.0->qiskit-terra[visualization]; extra == \"visualization\"->qiskit[visualization]==0.45.2) (0.21.0)\n",
            "Requirement already satisfied: nbclassic>=0.4.7 in /usr/local/lib/python3.10/dist-packages (from notebook>=4.4.1->widgetsnbextension~=3.6.0->ipywidgets>=7.3.0->qiskit-terra[visualization]; extra == \"visualization\"->qiskit[visualization]==0.45.2) (1.1.0)\n",
            "Requirement already satisfied: ptyprocess>=0.5 in /usr/local/lib/python3.10/dist-packages (from pexpect>4.3->ipython>=4.0.0->ipywidgets>=7.3.0->qiskit-terra[visualization]; extra == \"visualization\"->qiskit[visualization]==0.45.2) (0.7.0)\n",
            "Requirement already satisfied: wcwidth in /usr/local/lib/python3.10/dist-packages (from prompt-toolkit!=3.0.0,!=3.0.1,<3.1.0,>=2.0.0->ipython>=4.0.0->ipywidgets>=7.3.0->qiskit-terra[visualization]; extra == \"visualization\"->qiskit[visualization]==0.45.2) (0.2.13)\n",
            "Requirement already satisfied: platformdirs>=2.5 in /usr/local/lib/python3.10/dist-packages (from jupyter-core>=4.6.1->notebook>=4.4.1->widgetsnbextension~=3.6.0->ipywidgets>=7.3.0->qiskit-terra[visualization]; extra == \"visualization\"->qiskit[visualization]==0.45.2) (4.3.6)\n",
            "Requirement already satisfied: notebook-shim>=0.2.3 in /usr/local/lib/python3.10/dist-packages (from nbclassic>=0.4.7->notebook>=4.4.1->widgetsnbextension~=3.6.0->ipywidgets>=7.3.0->qiskit-terra[visualization]; extra == \"visualization\"->qiskit[visualization]==0.45.2) (0.2.4)\n",
            "Requirement already satisfied: beautifulsoup4 in /usr/local/lib/python3.10/dist-packages (from nbconvert>=5->notebook>=4.4.1->widgetsnbextension~=3.6.0->ipywidgets>=7.3.0->qiskit-terra[visualization]; extra == \"visualization\"->qiskit[visualization]==0.45.2) (4.12.3)\n",
            "Requirement already satisfied: bleach!=5.0.0 in /usr/local/lib/python3.10/dist-packages (from nbconvert>=5->notebook>=4.4.1->widgetsnbextension~=3.6.0->ipywidgets>=7.3.0->qiskit-terra[visualization]; extra == \"visualization\"->qiskit[visualization]==0.45.2) (6.2.0)\n",
            "Requirement already satisfied: defusedxml in /usr/local/lib/python3.10/dist-packages (from nbconvert>=5->notebook>=4.4.1->widgetsnbextension~=3.6.0->ipywidgets>=7.3.0->qiskit-terra[visualization]; extra == \"visualization\"->qiskit[visualization]==0.45.2) (0.7.1)\n",
            "Requirement already satisfied: jupyterlab-pygments in /usr/local/lib/python3.10/dist-packages (from nbconvert>=5->notebook>=4.4.1->widgetsnbextension~=3.6.0->ipywidgets>=7.3.0->qiskit-terra[visualization]; extra == \"visualization\"->qiskit[visualization]==0.45.2) (0.3.0)\n",
            "Requirement already satisfied: markupsafe>=2.0 in /usr/local/lib/python3.10/dist-packages (from nbconvert>=5->notebook>=4.4.1->widgetsnbextension~=3.6.0->ipywidgets>=7.3.0->qiskit-terra[visualization]; extra == \"visualization\"->qiskit[visualization]==0.45.2) (3.0.2)\n",
            "Requirement already satisfied: mistune<4,>=2.0.3 in /usr/local/lib/python3.10/dist-packages (from nbconvert>=5->notebook>=4.4.1->widgetsnbextension~=3.6.0->ipywidgets>=7.3.0->qiskit-terra[visualization]; extra == \"visualization\"->qiskit[visualization]==0.45.2) (3.0.2)\n",
            "Requirement already satisfied: nbclient>=0.5.0 in /usr/local/lib/python3.10/dist-packages (from nbconvert>=5->notebook>=4.4.1->widgetsnbextension~=3.6.0->ipywidgets>=7.3.0->qiskit-terra[visualization]; extra == \"visualization\"->qiskit[visualization]==0.45.2) (0.10.0)\n",
            "Requirement already satisfied: pandocfilters>=1.4.1 in /usr/local/lib/python3.10/dist-packages (from nbconvert>=5->notebook>=4.4.1->widgetsnbextension~=3.6.0->ipywidgets>=7.3.0->qiskit-terra[visualization]; extra == \"visualization\"->qiskit[visualization]==0.45.2) (1.5.1)\n",
            "Requirement already satisfied: tinycss2 in /usr/local/lib/python3.10/dist-packages (from nbconvert>=5->notebook>=4.4.1->widgetsnbextension~=3.6.0->ipywidgets>=7.3.0->qiskit-terra[visualization]; extra == \"visualization\"->qiskit[visualization]==0.45.2) (1.4.0)\n",
            "Requirement already satisfied: fastjsonschema>=2.15 in /usr/local/lib/python3.10/dist-packages (from nbformat->notebook>=4.4.1->widgetsnbextension~=3.6.0->ipywidgets>=7.3.0->qiskit-terra[visualization]; extra == \"visualization\"->qiskit[visualization]==0.45.2) (2.20.0)\n",
            "Requirement already satisfied: jsonschema>=2.6 in /usr/local/lib/python3.10/dist-packages (from nbformat->notebook>=4.4.1->widgetsnbextension~=3.6.0->ipywidgets>=7.3.0->qiskit-terra[visualization]; extra == \"visualization\"->qiskit[visualization]==0.45.2) (4.23.0)\n",
            "Requirement already satisfied: argon2-cffi-bindings in /usr/local/lib/python3.10/dist-packages (from argon2-cffi->notebook>=4.4.1->widgetsnbextension~=3.6.0->ipywidgets>=7.3.0->qiskit-terra[visualization]; extra == \"visualization\"->qiskit[visualization]==0.45.2) (21.2.0)\n",
            "Requirement already satisfied: webencodings in /usr/local/lib/python3.10/dist-packages (from bleach!=5.0.0->nbconvert>=5->notebook>=4.4.1->widgetsnbextension~=3.6.0->ipywidgets>=7.3.0->qiskit-terra[visualization]; extra == \"visualization\"->qiskit[visualization]==0.45.2) (0.5.1)\n",
            "Requirement already satisfied: attrs>=22.2.0 in /usr/local/lib/python3.10/dist-packages (from jsonschema>=2.6->nbformat->notebook>=4.4.1->widgetsnbextension~=3.6.0->ipywidgets>=7.3.0->qiskit-terra[visualization]; extra == \"visualization\"->qiskit[visualization]==0.45.2) (24.2.0)\n",
            "Requirement already satisfied: jsonschema-specifications>=2023.03.6 in /usr/local/lib/python3.10/dist-packages (from jsonschema>=2.6->nbformat->notebook>=4.4.1->widgetsnbextension~=3.6.0->ipywidgets>=7.3.0->qiskit-terra[visualization]; extra == \"visualization\"->qiskit[visualization]==0.45.2) (2024.10.1)\n",
            "Requirement already satisfied: referencing>=0.28.4 in /usr/local/lib/python3.10/dist-packages (from jsonschema>=2.6->nbformat->notebook>=4.4.1->widgetsnbextension~=3.6.0->ipywidgets>=7.3.0->qiskit-terra[visualization]; extra == \"visualization\"->qiskit[visualization]==0.45.2) (0.35.1)\n",
            "Requirement already satisfied: rpds-py>=0.7.1 in /usr/local/lib/python3.10/dist-packages (from jsonschema>=2.6->nbformat->notebook>=4.4.1->widgetsnbextension~=3.6.0->ipywidgets>=7.3.0->qiskit-terra[visualization]; extra == \"visualization\"->qiskit[visualization]==0.45.2) (0.20.0)\n",
            "Requirement already satisfied: jupyter-server<3,>=1.8 in /usr/local/lib/python3.10/dist-packages (from notebook-shim>=0.2.3->nbclassic>=0.4.7->notebook>=4.4.1->widgetsnbextension~=3.6.0->ipywidgets>=7.3.0->qiskit-terra[visualization]; extra == \"visualization\"->qiskit[visualization]==0.45.2) (1.24.0)\n",
            "Requirement already satisfied: soupsieve>1.2 in /usr/local/lib/python3.10/dist-packages (from beautifulsoup4->nbconvert>=5->notebook>=4.4.1->widgetsnbextension~=3.6.0->ipywidgets>=7.3.0->qiskit-terra[visualization]; extra == \"visualization\"->qiskit[visualization]==0.45.2) (2.6)\n",
            "Requirement already satisfied: anyio<4,>=3.1.0 in /usr/local/lib/python3.10/dist-packages (from jupyter-server<3,>=1.8->notebook-shim>=0.2.3->nbclassic>=0.4.7->notebook>=4.4.1->widgetsnbextension~=3.6.0->ipywidgets>=7.3.0->qiskit-terra[visualization]; extra == \"visualization\"->qiskit[visualization]==0.45.2) (3.7.1)\n",
            "Requirement already satisfied: sniffio>=1.1 in /usr/local/lib/python3.10/dist-packages (from anyio<4,>=3.1.0->jupyter-server<3,>=1.8->notebook-shim>=0.2.3->nbclassic>=0.4.7->notebook>=4.4.1->widgetsnbextension~=3.6.0->ipywidgets>=7.3.0->qiskit-terra[visualization]; extra == \"visualization\"->qiskit[visualization]==0.45.2) (1.3.1)\n",
            "Requirement already satisfied: exceptiongroup in /usr/local/lib/python3.10/dist-packages (from anyio<4,>=3.1.0->jupyter-server<3,>=1.8->notebook-shim>=0.2.3->nbclassic>=0.4.7->notebook>=4.4.1->widgetsnbextension~=3.6.0->ipywidgets>=7.3.0->qiskit-terra[visualization]; extra == \"visualization\"->qiskit[visualization]==0.45.2) (1.2.2)\n",
            "Downloading qiskit-0.45.2-py3-none-any.whl (9.6 kB)\n",
            "Downloading qiskit_terra-0.45.2-cp38-abi3-manylinux_2_17_x86_64.manylinux2014_x86_64.whl (6.3 MB)\n",
            "\u001b[2K   \u001b[90m━━━━━━━━━━━━━━━━━━━━━━━━━━━━━━━━━━━━━━━━\u001b[0m \u001b[32m6.3/6.3 MB\u001b[0m \u001b[31m26.9 MB/s\u001b[0m eta \u001b[36m0:00:00\u001b[0m\n",
            "\u001b[?25hDownloading qiskit_aer-0.14.2-cp310-cp310-manylinux_2_17_x86_64.manylinux2014_x86_64.whl (12.4 MB)\n",
            "\u001b[2K   \u001b[90m━━━━━━━━━━━━━━━━━━━━━━━━━━━━━━━━━━━━━━━━\u001b[0m \u001b[32m12.4/12.4 MB\u001b[0m \u001b[31m48.5 MB/s\u001b[0m eta \u001b[36m0:00:00\u001b[0m\n",
            "\u001b[?25hDownloading qiskit_ibm_runtime-0.20.0-py3-none-any.whl (1.8 MB)\n",
            "\u001b[2K   \u001b[90m━━━━━━━━━━━━━━━━━━━━━━━━━━━━━━━━━━━━━━━━\u001b[0m \u001b[32m1.8/1.8 MB\u001b[0m \u001b[31m35.3 MB/s\u001b[0m eta \u001b[36m0:00:00\u001b[0m\n",
            "\u001b[?25hDownloading ibm_platform_services-0.59.0-py3-none-any.whl (340 kB)\n",
            "\u001b[2K   \u001b[90m━━━━━━━━━━━━━━━━━━━━━━━━━━━━━━━━━━━━━━━━\u001b[0m \u001b[32m340.8/340.8 kB\u001b[0m \u001b[31m8.3 MB/s\u001b[0m eta \u001b[36m0:00:00\u001b[0m\n",
            "\u001b[?25hDownloading requests_ntlm-1.3.0-py3-none-any.whl (6.6 kB)\n",
            "Downloading dill-0.3.9-py3-none-any.whl (119 kB)\n",
            "\u001b[2K   \u001b[90m━━━━━━━━━━━━━━━━━━━━━━━━━━━━━━━━━━━━━━━━\u001b[0m \u001b[32m119.4/119.4 kB\u001b[0m \u001b[31m4.6 MB/s\u001b[0m eta \u001b[36m0:00:00\u001b[0m\n",
            "\u001b[?25hDownloading ibm_cloud_sdk_core-3.22.0-py3-none-any.whl (69 kB)\n",
            "\u001b[2K   \u001b[90m━━━━━━━━━━━━━━━━━━━━━━━━━━━━━━━━━━━━━━━━\u001b[0m \u001b[32m69.4/69.4 kB\u001b[0m \u001b[31m4.0 MB/s\u001b[0m eta \u001b[36m0:00:00\u001b[0m\n",
            "\u001b[?25hDownloading ply-3.11-py2.py3-none-any.whl (49 kB)\n",
            "\u001b[2K   \u001b[90m━━━━━━━━━━━━━━━━━━━━━━━━━━━━━━━━━━━━━━━━\u001b[0m \u001b[32m49.6/49.6 kB\u001b[0m \u001b[31m2.0 MB/s\u001b[0m eta \u001b[36m0:00:00\u001b[0m\n",
            "\u001b[?25hDownloading pyspnego-0.11.1-py3-none-any.whl (130 kB)\n",
            "\u001b[2K   \u001b[90m━━━━━━━━━━━━━━━━━━━━━━━━━━━━━━━━━━━━━━━━\u001b[0m \u001b[32m130.5/130.5 kB\u001b[0m \u001b[31m7.7 MB/s\u001b[0m eta \u001b[36m0:00:00\u001b[0m\n",
            "\u001b[?25hDownloading rustworkx-0.15.1-cp38-abi3-manylinux_2_17_x86_64.manylinux2014_x86_64.whl (2.0 MB)\n",
            "\u001b[2K   \u001b[90m━━━━━━━━━━━━━━━━━━━━━━━━━━━━━━━━━━━━━━━━\u001b[0m \u001b[32m2.0/2.0 MB\u001b[0m \u001b[31m36.1 MB/s\u001b[0m eta \u001b[36m0:00:00\u001b[0m\n",
            "\u001b[?25hDownloading stevedore-5.3.0-py3-none-any.whl (49 kB)\n",
            "\u001b[2K   \u001b[90m━━━━━━━━━━━━━━━━━━━━━━━━━━━━━━━━━━━━━━━━\u001b[0m \u001b[32m49.7/49.7 kB\u001b[0m \u001b[31m3.0 MB/s\u001b[0m eta \u001b[36m0:00:00\u001b[0m\n",
            "\u001b[?25hDownloading symengine-0.13.0-cp310-cp310-manylinux_2_17_x86_64.manylinux2014_x86_64.whl (49.7 MB)\n",
            "\u001b[2K   \u001b[90m━━━━━━━━━━━━━━━━━━━━━━━━━━━━━━━━━━━━━━━━\u001b[0m \u001b[32m49.7/49.7 MB\u001b[0m \u001b[31m8.2 MB/s\u001b[0m eta \u001b[36m0:00:00\u001b[0m\n",
            "\u001b[?25hDownloading pbr-6.1.0-py2.py3-none-any.whl (108 kB)\n",
            "\u001b[2K   \u001b[90m━━━━━━━━━━━━━━━━━━━━━━━━━━━━━━━━━━━━━━━━\u001b[0m \u001b[32m108.5/108.5 kB\u001b[0m \u001b[31m6.4 MB/s\u001b[0m eta \u001b[36m0:00:00\u001b[0m\n",
            "\u001b[?25hDownloading jedi-0.19.1-py2.py3-none-any.whl (1.6 MB)\n",
            "\u001b[2K   \u001b[90m━━━━━━━━━━━━━━━━━━━━━━━━━━━━━━━━━━━━━━━━\u001b[0m \u001b[32m1.6/1.6 MB\u001b[0m \u001b[31m15.4 MB/s\u001b[0m eta \u001b[36m0:00:00\u001b[0m\n",
            "\u001b[?25hBuilding wheels for collected packages: pylatexenc\n",
            "  Building wheel for pylatexenc (setup.py) ... \u001b[?25l\u001b[?25hdone\n",
            "  Created wheel for pylatexenc: filename=pylatexenc-2.10-py3-none-any.whl size=136816 sha256=0bbe9590d25be5c4a130bab082a08646df73e6b94bbdb2a596251112f887bcf4\n",
            "  Stored in directory: /root/.cache/pip/wheels/d3/31/8b/e09b0386afd80cfc556c00408c9aeea5c35c4d484a9c762fd5\n",
            "Successfully built pylatexenc\n",
            "Installing collected packages: pylatexenc, ply, symengine, rustworkx, pbr, jedi, dill, stevedore, ibm-cloud-sdk-core, qiskit-terra, pyspnego, ibm-platform-services, requests-ntlm, qiskit, qiskit-ibm-runtime, qiskit-aer\n",
            "Successfully installed dill-0.3.9 ibm-cloud-sdk-core-3.22.0 ibm-platform-services-0.59.0 jedi-0.19.1 pbr-6.1.0 ply-3.11 pylatexenc-2.10 pyspnego-0.11.1 qiskit-0.45.2 qiskit-aer-0.14.2 qiskit-ibm-runtime-0.20.0 qiskit-terra-0.45.2 requests-ntlm-1.3.0 rustworkx-0.15.1 stevedore-5.3.0 symengine-0.13.0\n"
          ]
        }
      ],
      "source": [
        "# No olvidar que en \"google colab\" hay que instalar qiskit\n",
        "\n",
        "########################\n",
        "# Instala versión 0.45.2\n",
        "########################\n",
        "# Importante, poner qiskit-aer en la misma linea de \"pip install\" para que coja la versión adecuada\n",
        "try:\n",
        "    import google.colab\n",
        "    print(\"In colab, let's install things...\")\n",
        "    #\n",
        "    !pip install qiskit[visualization]==0.45.2 qiskit-aer qiskit-ibm-runtime\n",
        "except ImportError:\n",
        "    print(\"NOT in colab\")"
      ]
    },
    {
      "cell_type": "code",
      "execution_count": null,
      "id": "0e7883d6-0e8f-4f24-af8f-228c4c79e46f",
      "metadata": {
        "id": "0e7883d6-0e8f-4f24-af8f-228c4c79e46f"
      },
      "outputs": [],
      "source": [
        "from IPython.display import display, Latex, Markdown\n",
        "from matplotlib import pyplot as plt\n",
        "import scipy.linalg as la\n",
        "import numpy as np"
      ]
    },
    {
      "cell_type": "code",
      "execution_count": null,
      "id": "83412cb3-3dac-4059-b2c1-ab9eb7e07fd4",
      "metadata": {
        "id": "83412cb3-3dac-4059-b2c1-ab9eb7e07fd4"
      },
      "outputs": [],
      "source": [
        "from qiskit.circuit import QuantumRegister, ClassicalRegister,QuantumCircuit\n",
        "from qiskit_aer import AerSimulator\n",
        "from qiskit import transpile\n",
        "from qiskit.quantum_info import Statevector, schmidt_decomposition\n",
        "from qiskit.visualization import plot_histogram, plot_bloch_multivector, array_to_latex"
      ]
    },
    {
      "cell_type": "code",
      "execution_count": null,
      "id": "8b677d21-8a76-4ff6-ba66-869a863e3ce5",
      "metadata": {
        "id": "8b677d21-8a76-4ff6-ba66-869a863e3ce5"
      },
      "outputs": [],
      "source": [
        "# Utilería acumulada\n",
        "\n",
        "# Definimos una función para visualizar el estado y la esfera a la vez\n",
        "# Permite escalar la(s) esferas(s) con 'inches' pulgadas, si este parámetro\n",
        "# no se pone, se dibuja al tamaño por defecto\n",
        "# Si se pone 0, no se dibuja la esfera\n",
        "def my_display_state_vector(psi, inches=None, prefix=r\"|\\psi\\rangle = \"):\n",
        "    d_latex = psi.draw('latex', prefix=prefix)\n",
        "    display(d_latex)\n",
        "    #\n",
        "    d_bloch = psi.draw('bloch')\n",
        "    if isinstance(inches, (int,float)):\n",
        "        if inches > 0:\n",
        "            d_bloch.set_size_inches(inches, inches, forward=True)\n",
        "            display(d_bloch)\n",
        "    else:\n",
        "        display(d_bloch)\n",
        "\n",
        "# Función para simular un cirucito dado:\n",
        "# devuelve esta terna (estado final, cuenta, resultado del job)\n",
        "def my_get_circuit_state(qcirc_in, shots=1, final_probe=True):\n",
        "    # Instancia del simulador\n",
        "    sim = AerSimulator(method = \"statevector\")\n",
        "\n",
        "    # Hacemos una copia ya que vamos a cambiar el objeto circuito\n",
        "    qcirc = qcirc_in.copy()\n",
        "\n",
        "    # Ponemos el \"probe\" para el vector de estado al final\n",
        "    # del cirucito dado\n",
        "    # ojo! el circuito no debe de tener un \"save_statevector\" ya!\n",
        "    if final_probe:\n",
        "        qcirc.save_statevector()\n",
        "\n",
        "    # Hacemos una simulación y obtenemos los resultados\n",
        "    qobj = transpile(qcirc, sim)\n",
        "    result = sim.run(qobj, shots=shots).result()\n",
        "    state = result.get_statevector()\n",
        "    counts_ideal = result.get_counts()\n",
        "\n",
        "    return state, counts_ideal, result\n",
        "\n",
        "# Función para simular un cirucito dado devuelve el resultado\n",
        "# de la simulación\n",
        "def my_circuit_simulation(qcirc, shots=1):\n",
        "    # Instancia del simulador\n",
        "    sim = AerSimulator(method = \"statevector\")\n",
        "\n",
        "    # Hacemos una simulación y obtenemos los resultados\n",
        "\n",
        "\n",
        "    qobj = transpile(qcirc, backend=sim)\n",
        "    result = sim.run(qobj, shots=shots).result()\n",
        "\n",
        "    return result"
      ]
    },
    {
      "cell_type": "markdown",
      "id": "1baaa913-0a6a-4a34-8d37-bca835f9d34b",
      "metadata": {
        "id": "1baaa913-0a6a-4a34-8d37-bca835f9d34b"
      },
      "source": [
        "<a id='sec_Notebooks_Circ_1_qubit_1'></a>\n",
        "## Creación y medición de circuitos de 1 qúbit con Qiskit"
      ]
    },
    {
      "cell_type": "markdown",
      "id": "961152c7-176f-408f-833c-e7700d1d5c14",
      "metadata": {
        "id": "961152c7-176f-408f-833c-e7700d1d5c14"
      },
      "source": [
        "Vamos a introducir los objetos Qiskit **Registros**, que pueden ser cuánticos o clásicos.\n",
        "\n",
        "Básicamente un registro es una _array_ de qubits o bits, respectivamente, y nos sirven para agrupar lógicamente grupos de bits ya sean cuánticos (qubits) o clásicos."
      ]
    },
    {
      "cell_type": "code",
      "execution_count": null,
      "id": "92747f43-b4e8-405c-96c7-3ab23aa17788",
      "metadata": {
        "id": "92747f43-b4e8-405c-96c7-3ab23aa17788"
      },
      "outputs": [],
      "source": [
        "# Definimos un registro cuántico con un qubit, etiquetado con 'q'\n",
        "quantum_reg = QuantumRegister(1, 'q')\n",
        "\n",
        "# Definimos un registro clásico con un bit, etiquetado con 'c'\n",
        "classic_reg = ClassicalRegister(1, 'c')"
      ]
    },
    {
      "cell_type": "markdown",
      "id": "99f94787-21b1-4c34-b907-2c46c79b4d84",
      "metadata": {
        "id": "99f94787-21b1-4c34-b907-2c46c79b4d84"
      },
      "source": [
        "<a id='sec_Notebooks_Circ_1_qubit_1.1'></a>\n",
        "### Circuito con solo medidor"
      ]
    },
    {
      "cell_type": "markdown",
      "id": "9769cb7a-09b3-43bc-907e-d1da0c4aef4e",
      "metadata": {
        "id": "9769cb7a-09b3-43bc-907e-d1da0c4aef4e"
      },
      "source": [
        "Creamos un primer circuito. En este solo vamos a poner un medidor. De esta forma vamos a verificar que por defecto Qiskit (y la mayoría de libreas de quantum) inicializan los estados en $| 0 \\rangle$"
      ]
    },
    {
      "cell_type": "code",
      "execution_count": null,
      "id": "3031ae5a-9205-4966-9fae-79f464c7b0c2",
      "metadata": {
        "colab": {
          "base_uri": "https://localhost:8080/",
          "height": 191
        },
        "id": "3031ae5a-9205-4966-9fae-79f464c7b0c2",
        "outputId": "d87c2003-7d3f-4187-cf51-53d8a2016fa0"
      },
      "outputs": [
        {
          "output_type": "execute_result",
          "data": {
            "text/plain": [
              "<Figure size 185.453x200.667 with 1 Axes>"
            ],
            "image/png": "[encoded data removed]"
          },
          "metadata": {},
          "execution_count": 6
        }
      ],
      "source": [
        "# Creamos el circuito a partir de los registros\n",
        "circuit = QuantumCircuit(quantum_reg, classic_reg)\n",
        "\n",
        "# Añadimos el medidor\n",
        "#   - El primer argumento son los qubits a medir\n",
        "#   - El segundo argumento son los bits donde volcar el resultado de la medición\n",
        "circuit.measure(quantum_reg, classic_reg)\n",
        "\n",
        "# Dibujamos el circuito\n",
        "circuit.draw(output='mpl', style=\"iqp\") # tipo de figura matplotlib (mpl)"
      ]
    },
    {
      "cell_type": "markdown",
      "id": "9c8a883d-2889-4c19-a5cd-25ab47a43c39",
      "metadata": {
        "id": "9c8a883d-2889-4c19-a5cd-25ab47a43c39"
      },
      "source": [
        "Vamos a simular"
      ]
    },
    {
      "cell_type": "code",
      "execution_count": null,
      "id": "7d69c252-973e-44fc-917f-fef3c517a16f",
      "metadata": {
        "id": "7d69c252-973e-44fc-917f-fef3c517a16f"
      },
      "outputs": [],
      "source": [
        "# Generamos una instancia del simulador;\n",
        "# con \"method\" le especificamos el método de simulación\n",
        "simulador = AerSimulator(method = 'statevector')\n",
        "\n",
        "# Transpilamos\n",
        "circuit_t = transpile(circuit, backend = simulador)\n",
        "\n",
        "# Ejecutamos la simulación, con un buen número de repeticiones\n",
        "# (shots = 1000), ya que tenemos un medidor\n",
        "job = simulador.run(circuit_t, shots = 1000)\n",
        "result = job.result()"
      ]
    },
    {
      "cell_type": "markdown",
      "id": "f1af29cb-c823-4446-9016-7c272e526dec",
      "metadata": {
        "id": "f1af29cb-c823-4446-9016-7c272e526dec"
      },
      "source": [
        "Imprimamos el objeto resultado de la simulación"
      ]
    },
    {
      "cell_type": "code",
      "execution_count": null,
      "id": "2c0001a4-6ab1-45bc-8d21-34d7e1494dfe",
      "metadata": {
        "colab": {
          "base_uri": "https://localhost:8080/",
          "height": 121
        },
        "id": "2c0001a4-6ab1-45bc-8d21-34d7e1494dfe",
        "outputId": "7d7fb2d0-f06f-4a8f-dde6-0780fbc06535"
      },
      "outputs": [
        {
          "output_type": "display_data",
          "data": {
            "text/plain": [
              "Result(backend_name='aer_simulator_statevector', backend_version='0.14.2', qobj_id='', job_id='bcf9947a-a32c-46ae-8f34-c0c0c9f72b8c', success=True, results=[ExperimentResult(shots=1000, success=True, meas_level=2, data=ExperimentResultData(counts={'0x0': 1000}), header=QobjExperimentHeader(creg_sizes=[['c', 1]], global_phase=0.0, memory_slots=1, n_qubits=1, name='circuit-158', qreg_sizes=[['q', 1]], metadata={}), status=DONE, seed_simulator=848456447, metadata={'time_taken': 0.001487055, 'num_bind_params': 1, 'parallel_state_update': 2, 'parallel_shots': 1, 'required_memory_mb': 1, 'input_qubit_map': [[0, 0]], 'method': 'statevector', 'device': 'CPU', 'num_qubits': 1, 'sample_measure_time': 0.000317635, 'active_input_qubits': [0], 'num_clbits': 1, 'remapped_qubits': False, 'runtime_parameter_bind': False, 'max_memory_mb': 12978, 'noise': 'ideal', 'measure_sampling': True, 'batched_shots_optimization': False, 'fusion': {'applied': False, 'max_fused_qubits': 5, 'threshold': 14, 'enabled': True}}, time_taken=0.001487055)], date=2024-11-02T13:05:21.889175, status=COMPLETED, header=None, metadata={'time_taken_parameter_binding': 2.5534e-05, 'time_taken_execute': 0.001527707, 'omp_enabled': True, 'max_gpu_memory_mb': 0, 'max_memory_mb': 12978, 'parallel_experiments': 1}, time_taken=0.002218961715698242)"
            ]
          },
          "metadata": {}
        }
      ],
      "source": [
        "display(result)"
      ]
    },
    {
      "cell_type": "markdown",
      "id": "d55218e4-3279-4851-a8fc-bf208763236b",
      "metadata": {
        "id": "d55218e4-3279-4851-a8fc-bf208763236b"
      },
      "source": [
        "Vemos que la salida tiene mucha información.\n",
        "Lo más importante es saber cuantas veces se ha medido cada posible medida de nuestro medidor."
      ]
    },
    {
      "cell_type": "code",
      "execution_count": null,
      "id": "93530252-e667-4aa5-afee-da50e3dcece6",
      "metadata": {
        "colab": {
          "base_uri": "https://localhost:8080/"
        },
        "id": "93530252-e667-4aa5-afee-da50e3dcece6",
        "outputId": "fb1b8207-085b-441e-8042-b1ae52a7d091"
      },
      "outputs": [
        {
          "output_type": "execute_result",
          "data": {
            "text/plain": [
              "{'0': 1000}"
            ]
          },
          "metadata": {},
          "execution_count": 9
        }
      ],
      "source": [
        "counts = result.get_counts()\n",
        "counts"
      ]
    },
    {
      "cell_type": "markdown",
      "id": "1d3b615f-d036-4ca3-adf4-b311bc163024",
      "metadata": {
        "id": "1d3b615f-d036-4ca3-adf4-b311bc163024"
      },
      "source": [
        "Vemos que, como era de esperar, las 1000 ejecuciones del circuito nos han dado $| 0 \\rangle$"
      ]
    },
    {
      "cell_type": "markdown",
      "id": "af0a81e4-7488-4608-ad73-9c17743f5c2c",
      "metadata": {
        "id": "af0a81e4-7488-4608-ad73-9c17743f5c2c"
      },
      "source": [
        "Podemos hacer un histograma con las cuentas.\n",
        "\n",
        "Nuevamente, el histograma es una figura de Matplotlib, así que podríamos usar `savefig()`"
      ]
    },
    {
      "cell_type": "code",
      "execution_count": null,
      "id": "1c26e1d8-d1f6-46c1-94f2-29ce56cfd36d",
      "metadata": {
        "colab": {
          "base_uri": "https://localhost:8080/",
          "height": 262
        },
        "id": "1c26e1d8-d1f6-46c1-94f2-29ce56cfd36d",
        "outputId": "9e017d2b-f7d1-4944-836f-27474de907d9"
      },
      "outputs": [
        {
          "output_type": "display_data",
          "data": {
            "text/plain": [
              "<Figure size 250x250 with 1 Axes>"
            ],
            "image/png": "[encoded data removed]"
          },
          "metadata": {}
        }
      ],
      "source": [
        "fig = plot_histogram(counts, figsize=(2.5,2.5))\n",
        "#Fig.savefig('/tmp/Fig_circuit_1_hist')\n",
        "display(fig)"
      ]
    },
    {
      "cell_type": "code",
      "execution_count": null,
      "id": "44a72ecf-f170-47bb-8cac-374a15e842e0",
      "metadata": {
        "id": "44a72ecf-f170-47bb-8cac-374a15e842e0"
      },
      "outputs": [],
      "source": []
    },
    {
      "cell_type": "markdown",
      "id": "aa3a119d-f7bb-4e17-98ed-6ad9664a3056",
      "metadata": {
        "id": "aa3a119d-f7bb-4e17-98ed-6ad9664a3056"
      },
      "source": [
        "<a id='sec_Notebooks_Circ_1_qubit_1.2'></a>\n",
        "### Circuito de un qubit con puertas y medidor"
      ]
    },
    {
      "cell_type": "code",
      "execution_count": null,
      "id": "a397d4e6-9d19-4ff8-a876-2db726b8fed5",
      "metadata": {
        "scrolled": true,
        "colab": {
          "base_uri": "https://localhost:8080/",
          "height": 191
        },
        "id": "a397d4e6-9d19-4ff8-a876-2db726b8fed5",
        "outputId": "a536cc98-4712-47e6-9413-da0bc146645b"
      },
      "outputs": [
        {
          "output_type": "display_data",
          "data": {
            "text/plain": [
              "<Figure size 436.286x200.667 with 1 Axes>"
            ],
            "image/png": "[encoded data removed]"
          },
          "metadata": {}
        }
      ],
      "source": [
        "# Creamos el circuito pasandole los registros.\n",
        "circuit = QuantumCircuit(quantum_reg, classic_reg)\n",
        "\n",
        "# Añadimos una puerta X seguida de una H al primer (y único) qúbit\n",
        "circuit.x(0)\n",
        "circuit.h(0)\n",
        "circuit.y(0)\n",
        "\n",
        "# Añadimos el medidor\n",
        "circuit.measure(quantum_reg, classic_reg)\n",
        "\n",
        "# Dibujemos el circuito\n",
        "display(circuit.draw(output='mpl', style=\"iqp\"))\n"
      ]
    },
    {
      "cell_type": "code",
      "execution_count": null,
      "id": "d63d9abb-d28e-4c3d-b9e9-cd07c2b22aef",
      "metadata": {
        "scrolled": true,
        "colab": {
          "base_uri": "https://localhost:8080/",
          "height": 262
        },
        "id": "d63d9abb-d28e-4c3d-b9e9-cd07c2b22aef",
        "outputId": "0dd6f168-0b58-4983-870e-6d15906d3112"
      },
      "outputs": [
        {
          "output_type": "display_data",
          "data": {
            "text/plain": [
              "<Figure size 250x250 with 1 Axes>"
            ],
            "image/png": "[encoded data removed]"
          },
          "metadata": {}
        }
      ],
      "source": [
        "# Usemos nuestra función de utilería que simula y nos da el resultado\n",
        "result = my_circuit_simulation(circuit, 1000)\n",
        "\n",
        "# Visualicemos el estado y las probabilidades\n",
        "counts = result.get_counts()\n",
        "display(plot_histogram(counts, figsize=(2.5,2.5)))"
      ]
    },
    {
      "cell_type": "code",
      "execution_count": null,
      "id": "26e4c52f-5387-408a-beab-29faa209f17d",
      "metadata": {
        "colab": {
          "base_uri": "https://localhost:8080/"
        },
        "id": "26e4c52f-5387-408a-beab-29faa209f17d",
        "outputId": "3a1923e9-f8b5-45ed-8a26-2a77badc227b"
      },
      "outputs": [
        {
          "output_type": "stream",
          "name": "stdout",
          "text": [
            "probability distribution = {'0': 0.501, '1': 0.499}\n"
          ]
        }
      ],
      "source": [
        "# Vamos a definir una función para calcular la distribución de probabilidad\n",
        "\n",
        "# Toma un histograma en formato diccionario tal como lo devuelve get_counts()\n",
        "# y lo transforma en otro diccionario con las frecuencias relativas (distribución\n",
        "# de probabilidad)\n",
        "def my_get_prob_dist(counts, nd=3):\n",
        "    N = 0\n",
        "    for i in counts.items():\n",
        "        N += i[1]\n",
        "    prob = {}\n",
        "    for i in counts.items():\n",
        "        prob[i[0]] = np.round(i[1]/N, nd)\n",
        "    return prob\n",
        "\n",
        "\n",
        "prob_dist = my_get_prob_dist(counts)\n",
        "print(\"probability distribution =\", prob_dist)"
      ]
    },
    {
      "cell_type": "markdown",
      "id": "fb3c3a70-c553-45f4-9719-6af6f504eb5c",
      "metadata": {
        "id": "fb3c3a70-c553-45f4-9719-6af6f504eb5c"
      },
      "source": [
        "<div style=\"background-color:#c8e6c9\">\n",
        "<hr>\n",
        "<b>Ejercicio:</b>\n",
        "Con lápiz y papel, en este circuito, ¿cuál es el estado final del qubit antes del medidor?\n",
        "    \n",
        "Observa las frecuencias de aparición de las medidas ¿son aproximadamente las que deben salir?\n",
        "<hr>\n",
        "</div>"
      ]
    },
    {
      "cell_type": "code",
      "source": [
        "# prompt: saca por pantalla los calculos para definir el estado final del qubit antes del medidor, sacalo con un print.\n",
        "# Luego obten las frecuencias de aparición de las medidas y graficalas en función de los códigos anteriores.\n",
        "\n",
        "# State before measurement calculation\n",
        "# The circuit applies X, H, and Y gates to the qubit.\n",
        "# X: |0> -> |1>\n",
        "# H: |1> -> (|0> - |1>)/sqrt(2)\n",
        "# Y: (|0> - |1>)/sqrt(2) -> i(|0> + |1>)/sqrt(2)  (applying Y to (|0> - |1>)/sqrt(2))\n",
        "# Therefore, the final state before measurement is i(|0> + |1>)/sqrt(2).\n",
        "\n",
        "print(\"The state of the qubit before measurement is approximately i(|0> + |1>)/√2\")\n",
        "\n",
        "# Obtaining and plotting measurement frequencies\n",
        "import matplotlib.pyplot as plt\n",
        "\n",
        "# Assuming 'counts' is the dictionary obtained from result.get_counts()\n",
        "# Example counts (replace with actual counts)\n",
        "counts = result.get_counts()\n",
        "\n",
        "# Calculating probabilities\n",
        "prob_dist = my_get_prob_dist(counts)\n",
        "\n",
        "# Plotting probabilities\n",
        "plt.figure(figsize=(6, 4))  # Adjust figure size as needed\n",
        "plt.bar(prob_dist.keys(), prob_dist.values(), color='skyblue')\n",
        "plt.xlabel(\"Measurement Outcome\")\n",
        "plt.ylabel(\"Probability\")\n",
        "plt.title(\"Measurement Frequencies\")\n",
        "plt.show()"
      ],
      "metadata": {
        "colab": {
          "base_uri": "https://localhost:8080/",
          "height": 427
        },
        "id": "EZwOMZil_Yxr",
        "outputId": "7b5ed454-2f72-4f31-dc6a-89694df88c64"
      },
      "id": "EZwOMZil_Yxr",
      "execution_count": null,
      "outputs": [
        {
          "output_type": "stream",
          "name": "stdout",
          "text": [
            "The state of the qubit before measurement is approximately i(|0> + |1>)/√2\n"
          ]
        },
        {
          "output_type": "display_data",
          "data": {
            "text/plain": [
              "<Figure size 600x400 with 1 Axes>"
            ],
            "image/png": "[encoded data removed]"
          },
          "metadata": {}
        }
      ]
    },
    {
      "cell_type": "markdown",
      "id": "f83f7b86-d94d-47f0-a053-b74a04012694",
      "metadata": {
        "id": "f83f7b86-d94d-47f0-a053-b74a04012694"
      },
      "source": [
        "<div style=\"background-color:#c8e6c9\">\n",
        "<hr>\n",
        "<b>Ejercicio:</b>\n",
        "Añade un medidor al circuito del primer ejercicio del cuadernillo anterior, que no era más que una mera inicialización del qubit.\n",
        "\n",
        "Comprueba que el histograma está acorde al cuadrado de las amplitudes 0 y 1 en el vector de ini\n",
        "<hr>\n",
        "</div>"
      ]
    },
    {
      "cell_type": "code",
      "execution_count": null,
      "id": "49ef23e7-7fe5-4cc1-8228-7e34371b5c02",
      "metadata": {
        "colab": {
          "base_uri": "https://localhost:8080/",
          "height": 687
        },
        "id": "49ef23e7-7fe5-4cc1-8228-7e34371b5c02",
        "outputId": "1ee2a3ec-9520-45f3-d670-5b2fa2588caa"
      },
      "outputs": [
        {
          "output_type": "display_data",
          "data": {
            "text/plain": [
              "<IPython.core.display.Latex object>"
            ],
            "text/latex": "$$|\\psi\\rangle = (\\frac{43}{50} + \\frac{47 i}{100}) |0\\rangle+(\\frac{3}{100} + \\frac{9 i}{50}) |1\\rangle$$"
          },
          "metadata": {}
        },
        {
          "output_type": "display_data",
          "data": {
            "text/plain": [
              "<Figure size 250x250 with 1 Axes>"
            ],
            "image/png": "[encoded data removed]"
          },
          "metadata": {}
        },
        {
          "output_type": "display_data",
          "data": {
            "text/plain": [
              "<Figure size 250x250 with 1 Axes>"
            ],
            "image/png": "[encoded data removed]"
          },
          "metadata": {}
        },
        {
          "output_type": "display_data",
          "data": {
            "text/plain": [
              "<Figure size 436.286x200.667 with 1 Axes>"
            ],
            "image/png": "[encoded data removed]"
          },
          "metadata": {}
        }
      ],
      "source": [
        "# prompt: Al código siguiente:\n",
        "# # Iniciando un simple circuito sin puertas\n",
        "# # Vamos a generar un vector de estado de un qubit a un estado aleatorio\n",
        "# rm = np.random.rand(2,1) + np.random.rand(2,1)*1j\n",
        "# rm = rm/la.norm(rm) # Normalizar\n",
        "# initial_state = Statevector(rm)\n",
        "# # Vamos a mostar este estado con 2 decimales\n",
        "# # Recordar que los States vectors se admiten no normalizados,\n",
        "# # otra cosa es que no sean válidos\n",
        "# my_display_state_vector(Statevector([np.round(initial_state[0],2), np.round(initial_state[1],2)]), 2.5)\n",
        "# añadele un medidor e indica con un comentario donde está añadido\n",
        "#  y saca un histograma igual que el del apartado anterior\n",
        "# Saca también una representación del circuito.\n",
        "\n",
        "import google.colab\n",
        "from IPython.display import display, Latex, Markdown\n",
        "from matplotlib import pyplot as plt\n",
        "import scipy.linalg as la\n",
        "import numpy as np\n",
        "from qiskit.circuit import QuantumRegister, ClassicalRegister,QuantumCircuit\n",
        "from qiskit_aer import AerSimulator\n",
        "from qiskit import transpile\n",
        "from qiskit.quantum_info import Statevector, schmidt_decomposition\n",
        "from qiskit.visualization import plot_histogram, plot_bloch_multivector, array_to_latex\n",
        "import matplotlib.pyplot as plt\n",
        "\n",
        "# ... (rest of the provided code)\n",
        "\n",
        "# Iniciando un simple circuito sin puertas\n",
        "# Vamos a generar un vector de estado de un qubit a un estado aleatorio\n",
        "rm = np.random.rand(2,1) + np.random.rand(2,1)*1j\n",
        "rm = rm/la.norm(rm) # Normalizar\n",
        "initial_state = Statevector(rm)\n",
        "# Vamos a mostar este estado con 2 decimales\n",
        "# Recordar que los States vectors se admiten no normalizados,\n",
        "# otra cosa es que no sean válidos\n",
        "\n",
        "# Crear un registro cuántico y un registro clásico\n",
        "quantum_reg = QuantumRegister(1, 'q')\n",
        "classic_reg = ClassicalRegister(1, 'c')\n",
        "\n",
        "# Crear un circuito\n",
        "circuit = QuantumCircuit(quantum_reg, classic_reg)\n",
        "\n",
        "# Inicializar el qubit con el estado aleatorio (no es necesario con Statevector)\n",
        "circuit.initialize(initial_state.data, 0)\n",
        "\n",
        "# Añadir un medidor al circuito (aquí se añade el medidor)\n",
        "circuit.measure(0,0) # Medir el qubit 0 y guardar el resultado en el bit clásico 0\n",
        "\n",
        "my_display_state_vector(Statevector([np.round(initial_state[0],2), np.round(initial_state[1],2)]), 2.5)\n",
        "\n",
        "# Simular el circuito\n",
        "result = my_circuit_simulation(circuit, 1000)\n",
        "counts = result.get_counts()\n",
        "\n",
        "# Mostrar el histograma\n",
        "display(plot_histogram(counts, figsize=(2.5,2.5)))\n",
        "\n",
        "# Dibujar el circuito\n",
        "display(circuit.draw(output='mpl', style=\"iqp\"))"
      ]
    },
    {
      "cell_type": "markdown",
      "id": "af74aa19-3737-4d20-a2c3-1c6320e5d830",
      "metadata": {
        "id": "af74aa19-3737-4d20-a2c3-1c6320e5d830"
      },
      "source": [
        "<a id='sec_Notebooks_Circ_1_qubit_3'></a>\n",
        "## La moneda cuántica   "
      ]
    },
    {
      "cell_type": "markdown",
      "id": "a7b72e2b-847c-4ceb-a4b9-0de243c62b1b",
      "metadata": {
        "id": "a7b72e2b-847c-4ceb-a4b9-0de243c62b1b"
      },
      "source": [
        "Vamos a ver aquí a modo de ejemplo un experimento simple: **la moneda cuántica**.\n",
        "\n",
        "El resultado de tirar una moneda al aire es una variable aleatoria con dos resultados equiprobables:  cara y cruz.  Es irrelevante si analizamos el resultado cada tirada o cada dos, o tres tiradas. Las frecuencias relativas de caras y cruces, siempre serán próximas a $1/2$. Es decir, podemos tirar la moneda, recogerla sin mirarla, volver a tirar, y las probabilidades no cambian.\n",
        "\n",
        "Podemos imaginar un experimento similar con un qúbit, donde cara $\\to 0$ y cruz $\\to 1$ son los resultados posibles de la medida en la base $Z$. Como al tirar la moneda, mientras esta está en el aire podemos pensar que está en ``una superposición equiprobable del cara y cruz'', el hecho de **tirar la moneda** en computación cuántica será aplicar el operador $H$.\n",
        "\n",
        "Haciendo esta consideración, podemos ver que no es lo mismo tirar la moneda 1 vez y mirar\n",
        "\n",
        "$$\n",
        "\\ket{0}~ \\stackrel{\\rm tirar}{\\longrightarrow} ~ H \\ket{0}= \\ket{+} ~ \\stackrel{\\rm medir}{\\longrightarrow} ~p(0) = p(1) = 0.5\n",
        "$$\n",
        "\n",
        "que tirarla dos veces y mirar\n",
        "\n",
        "$$\n",
        "\\ket{0}~ \\stackrel{\\rm tirar}{\\longrightarrow} ~ H \\ket{0}~ \\stackrel{\\rm tirar}{\\longrightarrow} H^2\\ket{0} = \\ket{0} ~ \\stackrel{\\rm medir}{\\longrightarrow} ~p(0) = 1 ~,~p(1) = 0\n",
        "$$\n",
        "\n",
        "El objetivo de este experimento es simplemente ver que ciertas puertas son sus propias inversas y que cuando aplicamos las aplicamos un número par de veces seguidas, es como si no aplicáramos nada."
      ]
    },
    {
      "cell_type": "markdown",
      "id": "af5bbdee-27c6-4deb-8c4c-f3090e34d9ff",
      "metadata": {
        "id": "af5bbdee-27c6-4deb-8c4c-f3090e34d9ff"
      },
      "source": [
        "Hagamos dos circuitos para hacer dos pruebas. Veamos que pasa si medimos después de la primero $H$ y si no:"
      ]
    },
    {
      "cell_type": "code",
      "execution_count": null,
      "id": "c4175664-4cb9-45d2-8d8d-b877cfa3de88",
      "metadata": {
        "colab": {
          "base_uri": "https://localhost:8080/"
        },
        "id": "c4175664-4cb9-45d2-8d8d-b877cfa3de88",
        "outputId": "52a334b9-9aeb-4f7b-d4c0-412f24051094"
      },
      "outputs": [
        {
          "output_type": "execute_result",
          "data": {
            "text/plain": [
              "<qiskit.circuit.instructionset.InstructionSet at 0x7d2ddd7be0e0>"
            ]
          },
          "metadata": {},
          "execution_count": 22
        }
      ],
      "source": [
        "classic_reg_2_bits = ClassicalRegister(2)\n",
        "\n",
        "circuit_coin_1 = QuantumCircuit(quantum_reg, classic_reg_2_bits)\n",
        "circuit_coin_1.h(0)\n",
        "circuit_coin_1.measure(quantum_reg, classic_reg_2_bits[0]) # Añadimos una medida intermedia.\n",
        "circuit_coin_1.h(0)\n",
        "circuit_coin_1.measure(quantum_reg, classic_reg_2_bits[1])\n",
        "\n",
        "circuit_coin_2 = QuantumCircuit(quantum_reg, classic_reg)\n",
        "circuit_coin_2.h(0)\n",
        "circuit_coin_2.h(0)\n",
        "circuit_coin_2.measure(quantum_reg, classic_reg)\n",
        "\n",
        "#display(circuit_coin_1.draw(), circuit_coin_2.draw())"
      ]
    },
    {
      "cell_type": "code",
      "execution_count": null,
      "id": "f3f37bba-f89c-49a7-b298-ec02b8c032f4",
      "metadata": {
        "colab": {
          "base_uri": "https://localhost:8080/",
          "height": 191
        },
        "id": "f3f37bba-f89c-49a7-b298-ec02b8c032f4",
        "outputId": "34028525-e8ca-45db-f277-77957fd53091"
      },
      "outputs": [
        {
          "output_type": "display_data",
          "data": {
            "text/plain": [
              "<Figure size 451.911x200.667 with 1 Axes>"
            ],
            "image/png": "[encoded data removed]"
          },
          "metadata": {}
        }
      ],
      "source": [
        "fig_coin_1 = circuit_coin_1.draw(output='mpl', style=\"iqp\") # mpl es de Matplolib\n",
        "display(fig_coin_1)"
      ]
    },
    {
      "cell_type": "code",
      "execution_count": null,
      "id": "ad35e284-4afb-4e5e-85e9-49d4fb1a2251",
      "metadata": {
        "colab": {
          "base_uri": "https://localhost:8080/",
          "height": 191
        },
        "id": "ad35e284-4afb-4e5e-85e9-49d4fb1a2251",
        "outputId": "30110c7c-0430-4fce-ce00-c78b89191fd7"
      },
      "outputs": [
        {
          "output_type": "display_data",
          "data": {
            "text/plain": [
              "<Figure size 352.675x200.667 with 1 Axes>"
            ],
            "image/png": "[encoded data removed]"
          },
          "metadata": {}
        }
      ],
      "source": [
        "fig_coin_2 = circuit_coin_2.draw(output='mpl', style=\"iqp\") # mpl es de Matplolib\n",
        "display(fig_coin_2)"
      ]
    },
    {
      "cell_type": "code",
      "execution_count": null,
      "id": "7e8b761e-c318-497d-8ed0-d51c29e38b63",
      "metadata": {
        "colab": {
          "base_uri": "https://localhost:8080/"
        },
        "id": "7e8b761e-c318-497d-8ed0-d51c29e38b63",
        "outputId": "8e5479c0-d0b8-4fa0-8b86-6803a071dbca"
      },
      "outputs": [
        {
          "output_type": "stream",
          "name": "stdout",
          "text": [
            "Resultado (circuito 1):  {'00': 241, '10': 245, '01': 274, '11': 240}\n",
            "Resultado (circuito 2):  {'0': 1000}\n"
          ]
        }
      ],
      "source": [
        "# transpilamos\n",
        "\n",
        "result_coin_1 = my_circuit_simulation(circuit_coin_1, 1000)\n",
        "result_coin_2 = my_circuit_simulation(circuit_coin_2, 1000)\n",
        "\n",
        "# Conteo de medidas\n",
        "counts_coin_1 = result_coin_1.get_counts()\n",
        "print(\"Resultado (circuito 1): \", counts_coin_1)\n",
        "counts_coin_2 = result_coin_2.get_counts()\n",
        "print(\"Resultado (circuito 2): \", counts_coin_2)"
      ]
    },
    {
      "cell_type": "code",
      "execution_count": null,
      "id": "453fad13-d6c9-4fed-b644-21c352e43337",
      "metadata": {
        "colab": {
          "base_uri": "https://localhost:8080/",
          "height": 310
        },
        "id": "453fad13-d6c9-4fed-b644-21c352e43337",
        "outputId": "8e442526-49b4-461f-9d4d-d0039e6e384d"
      },
      "outputs": [
        {
          "output_type": "display_data",
          "data": {
            "text/plain": [
              "<Figure size 500x300 with 1 Axes>"
            ],
            "image/png": "[encoded data removed]"
          },
          "metadata": {}
        }
      ],
      "source": [
        "display(plot_histogram(counts_coin_1, figsize=(5,3)))"
      ]
    },
    {
      "cell_type": "markdown",
      "id": "94e308d4-3b87-41f8-86f8-8f464015dc23",
      "metadata": {
        "id": "94e308d4-3b87-41f8-86f8-8f464015dc23"
      },
      "source": [
        "Lo resultados $00$ y$11$ son aquellos en los que hemos medido los mismo en los dos medidores, es decir, en los dos tiradas ha salido cara o cruz.\n",
        "En los otros casos, no hemos medido lo mismo, es decir, en una tirada ha salido cara y en la otra cruz."
      ]
    },
    {
      "cell_type": "code",
      "execution_count": null,
      "id": "2a35e71d-4558-4c83-9ff5-1475e64dc969",
      "metadata": {
        "colab": {
          "base_uri": "https://localhost:8080/",
          "height": 225
        },
        "id": "2a35e71d-4558-4c83-9ff5-1475e64dc969",
        "outputId": "66f9b10c-bace-479a-e3bb-969a741198cc"
      },
      "outputs": [
        {
          "output_type": "display_data",
          "data": {
            "text/plain": [
              "<Figure size 200x200 with 1 Axes>"
            ],
            "image/png": "[encoded data removed]"
          },
          "metadata": {}
        }
      ],
      "source": [
        "display(plot_histogram(counts_coin_2, figsize=(2,2)))"
      ]
    },
    {
      "cell_type": "markdown",
      "id": "4b138397-2c8d-4b60-83bf-6d3b7604154e",
      "metadata": {
        "id": "4b138397-2c8d-4b60-83bf-6d3b7604154e"
      },
      "source": [
        "Vemos que **medir altera nuestro resultado**"
      ]
    },
    {
      "cell_type": "markdown",
      "id": "2399645f-fa80-44c1-9207-bc0189c2361c",
      "metadata": {
        "id": "2399645f-fa80-44c1-9207-bc0189c2361c"
      },
      "source": [
        "<a id='sec_Notebooks_Circ_1_qubit_4'></a>\n",
        "## Valores esperados  "
      ]
    },
    {
      "cell_type": "markdown",
      "id": "2d208db4-0d2b-45a2-8503-81dd5419aba3",
      "metadata": {
        "id": "2d208db4-0d2b-45a2-8503-81dd5419aba3"
      },
      "source": [
        "<a id='sec_Notebooks_Circ_1_qubit_4.1'></a>\n",
        "### Valor esperado de un observable arbitrario (operador hermítico)."
      ]
    },
    {
      "cell_type": "markdown",
      "id": "97efb596-8415-4a21-8606-140edc16bee8",
      "metadata": {
        "id": "97efb596-8415-4a21-8606-140edc16bee8"
      },
      "source": [
        "Vamos a ver como se mide el valor esperado de un observable arbitrario $A$ en un estado arbitrario $\\ket{\\Psi}$. Estos valores esperados se denotan de la siguiente forma: $\\langle Z \\rangle_\\Psi$.\n",
        "\n",
        "Cualquier observable sobre un cúbit cumple $A = A^\\dagger$ (es hermítico) con lo que puede expresarse en la base\n",
        "\t\\begin{equation} \\label{ec_medidas1_expansion_A_en_Paulis}\n",
        "\tA = a I + n_x X + n_y Y  + n_z Z \\, .\n",
        "\t\\end{equation}\n",
        "Los coeficientes se obtienen haciendo uso de las relaciones $\\frac{1}{2}$ tr$ (\\sigma_i \\sigma_j) = \\delta_{ij}$ y de tr$(\\sigma_i)=0$, de las cuales se obtiene\n",
        "\t$$\\begin{align}\n",
        "\t&\\boxed{a  = \\frac{1}{2} \\text{ tr}(A)},        &         &\\boxed{n_i = \\frac{1}{2} \\text{ tr}  (A \\sigma_i)},\n",
        "\t\\end{align}\n",
        "    $$\n",
        "Entonces, podremos obtener el valor esperado de $A$  si somos capaces de medir los valores esperados de $X,$ $Y$ y $Z$.\n",
        "\t\\begin{equation}\n",
        "\t\\boxed{\\langle A\\rangle_\\Psi = a + n_x \\langle X\\rangle_\\Psi + n_y \\langle Y\\rangle_\\Psi + n_z \\langle Z\\rangle_\\Psi}\n",
        "\t\\end{equation}"
      ]
    },
    {
      "cell_type": "markdown",
      "id": "e652c9af-5ec8-403e-9dc3-b64bb355b794",
      "metadata": {
        "id": "e652c9af-5ec8-403e-9dc3-b64bb355b794"
      },
      "source": [
        "<a id='sec_Notebooks_Circ_1_qubit_4.1.1'></a>\n",
        "#### Inicializando estado $| \\Psi \\rangle $"
      ]
    },
    {
      "cell_type": "code",
      "execution_count": null,
      "id": "cd10f185-f0b1-4ad0-bc11-abc85a63a9b1",
      "metadata": {
        "colab": {
          "base_uri": "https://localhost:8080/",
          "height": 115
        },
        "id": "cd10f185-f0b1-4ad0-bc11-abc85a63a9b1",
        "outputId": "5e8bcb58-87a7-4e71-ba3e-65a55fb6a27a"
      },
      "outputs": [
        {
          "output_type": "display_data",
          "data": {
            "text/plain": [
              "<IPython.core.display.Latex object>"
            ],
            "text/latex": "$$0.9689124217 |0\\rangle+(0.2363540298 + 0.0731128692 i) |1\\rangle$$"
          },
          "metadata": {}
        },
        {
          "output_type": "display_data",
          "data": {
            "text/plain": [
              "     ┌───────────────────────────────────────┐┌─┐\n",
              "  q: ┤ Initialize(0.96891,0.23635+0.073113j) ├┤M├\n",
              "     └───────────────────────────────────────┘└╥┘\n",
              "c: 1/══════════════════════════════════════════╩═\n",
              "                                               0 "
            ],
            "text/html": [
              "<pre style=\"word-wrap: normal;white-space: pre;background: #fff0;line-height: 1.1;font-family: &quot;Courier New&quot;,Courier,monospace\">     ┌───────────────────────────────────────┐┌─┐\n",
              "  q: ┤ Initialize(0.96891,0.23635+0.073113j) ├┤M├\n",
              "     └───────────────────────────────────────┘└╥┘\n",
              "c: 1/══════════════════════════════════════════╩═\n",
              "                                               0 </pre>"
            ]
          },
          "metadata": {}
        }
      ],
      "source": [
        "# Vamos a definir un circuito con un valor inicial arbitario\n",
        "# y vamos a simularlo calculando su distribución de probabilidad\n",
        "\n",
        "# Inicializamos un estado arbitrario en la esfera de Bloch\n",
        "theta = 0.5  #rad\n",
        "phi   = 0.3  #rad\n",
        "psi_state = [np.cos(theta/2),(np.exp(1j*phi))*np.sin(theta/2)]\n",
        "\n",
        "# Veamos el vector de estado\n",
        "Psi = Statevector(psi_state)\n",
        "display(Psi.draw('latex'))\n",
        "\n",
        "qc = QuantumCircuit(quantum_reg, classic_reg)\n",
        "qc.initialize(Psi)\n",
        "qc.measure(quantum_reg, classic_reg)\n",
        "display(qc.draw('text',style=\"iqp\"))\n",
        "r = my_circuit_simulation(qc, 1000)\n",
        "counts_state = r.get_counts()\n",
        "prob_distr_state = my_get_prob_dist(counts_state)\n"
      ]
    },
    {
      "cell_type": "code",
      "execution_count": null,
      "id": "a5a090ec-b790-49eb-b8de-c31193636f79",
      "metadata": {
        "colab": {
          "base_uri": "https://localhost:8080/"
        },
        "id": "a5a090ec-b790-49eb-b8de-c31193636f79",
        "outputId": "e1119ab9-7d4a-4edf-d5fa-02eb5a277b09"
      },
      "outputs": [
        {
          "output_type": "stream",
          "name": "stdout",
          "text": [
            "p_0= 0.939 , p_1= 0.061\n",
            "probability distribution = {'1': 0.051, '0': 0.949}\n"
          ]
        }
      ],
      "source": [
        "print('p_0=', np.round(np.abs(psi_state[0])**2,3),', p_1=', np.round(np.abs(psi_state[1])**2,3))\n",
        "print(\"probability distribution =\", prob_distr_state)"
      ]
    },
    {
      "cell_type": "markdown",
      "id": "ab8b10f1-c463-43ed-a9f4-1e3107ad793b",
      "metadata": {
        "id": "ab8b10f1-c463-43ed-a9f4-1e3107ad793b"
      },
      "source": [
        "<a id='sec_Notebooks_Circ_1_qubit_4.1.2'></a>\n",
        "#### Midiendo $\\langle Z \\rangle$"
      ]
    },
    {
      "cell_type": "code",
      "execution_count": null,
      "id": "d9b8e8a9-01aa-4685-967f-ab36934b5080",
      "metadata": {
        "colab": {
          "base_uri": "https://localhost:8080/",
          "height": 146
        },
        "id": "d9b8e8a9-01aa-4685-967f-ab36934b5080",
        "outputId": "1ed94cda-0cb8-4220-b2e1-2ca21171963c"
      },
      "outputs": [
        {
          "output_type": "display_data",
          "data": {
            "text/plain": [
              "     ┌───────────────────────────────────────┐┌─┐\n",
              "  q: ┤ Initialize(0.96891,0.23635+0.073113j) ├┤M├\n",
              "     └───────────────────────────────────────┘└╥┘\n",
              "c: 1/══════════════════════════════════════════╩═\n",
              "                                               0 "
            ],
            "text/html": [
              "<pre style=\"word-wrap: normal;white-space: pre;background: #fff0;line-height: 1.1;font-family: &quot;Courier New&quot;,Courier,monospace\">     ┌───────────────────────────────────────┐┌─┐\n",
              "  q: ┤ Initialize(0.96891,0.23635+0.073113j) ├┤M├\n",
              "     └───────────────────────────────────────┘└╥┘\n",
              "c: 1/══════════════════════════════════════════╩═\n",
              "                                               0 </pre>"
            ]
          },
          "metadata": {}
        },
        {
          "output_type": "stream",
          "name": "stdout",
          "text": [
            "Resultado:  {'1': 62, '0': 938}\n",
            "probability distribution = {'1': 0.062, '0': 0.938}\n",
            "<Z> = 0.876\n"
          ]
        }
      ],
      "source": [
        "# Circuito\n",
        "circuit_Z_mean = QuantumCircuit(quantum_reg, classic_reg)\n",
        "circuit_Z_mean.initialize(Psi,0)\n",
        "circuit_Z_mean.measure(quantum_reg, classic_reg)\n",
        "\n",
        "display(circuit_Z_mean.draw())\n",
        "\n",
        "# Ejecutamos\n",
        "result_Z_mean = my_circuit_simulation(circuit_Z_mean, 1000)\n",
        "counts_Z_mean = result_Z_mean.get_counts()\n",
        "print(\"Resultado: \", counts_Z_mean)\n",
        "\n",
        "# Distribución de probabilidad\n",
        "prob_distr_Z_mean = my_get_prob_dist(counts_Z_mean)\n",
        "print(\"probability distribution =\", prob_distr_Z_mean)\n",
        "\n",
        "# Calculamos <Z>\n",
        "mean_Z = 0\n",
        "\n",
        "for bits, probs  in prob_distr_Z_mean.items():\n",
        "    mean_Z += (-1)**(int(bits)) * probs\n",
        "\n",
        "print('<Z> =',np.round(mean_Z,5))"
      ]
    },
    {
      "cell_type": "markdown",
      "id": "6eea4966-d8bc-4914-9b17-c00502b4ef70",
      "metadata": {
        "id": "6eea4966-d8bc-4914-9b17-c00502b4ef70"
      },
      "source": [
        "<a id='sec_Notebooks_Circ_1_qubit_4.1.3'></a>\n",
        "#### Midiendo $\\langle X \\rangle$"
      ]
    },
    {
      "cell_type": "code",
      "execution_count": null,
      "id": "546617e4-b185-4149-81ee-e3752f5d5c39",
      "metadata": {
        "colab": {
          "base_uri": "https://localhost:8080/",
          "height": 146
        },
        "id": "546617e4-b185-4149-81ee-e3752f5d5c39",
        "outputId": "a8759593-9bd3-45b4-ec52-2de4eae56045"
      },
      "outputs": [
        {
          "output_type": "display_data",
          "data": {
            "text/plain": [
              "     ┌───────────────────────────────────────┐┌───┐┌─┐\n",
              "  q: ┤ Initialize(0.96891,0.23635+0.073113j) ├┤ H ├┤M├\n",
              "     └───────────────────────────────────────┘└───┘└╥┘\n",
              "c: 1/═══════════════════════════════════════════════╩═\n",
              "                                                    0 "
            ],
            "text/html": [
              "<pre style=\"word-wrap: normal;white-space: pre;background: #fff0;line-height: 1.1;font-family: &quot;Courier New&quot;,Courier,monospace\">     ┌───────────────────────────────────────┐┌───┐┌─┐\n",
              "  q: ┤ Initialize(0.96891,0.23635+0.073113j) ├┤ H ├┤M├\n",
              "     └───────────────────────────────────────┘└───┘└╥┘\n",
              "c: 1/═══════════════════════════════════════════════╩═\n",
              "                                                    0 </pre>"
            ]
          },
          "metadata": {}
        },
        {
          "output_type": "stream",
          "name": "stdout",
          "text": [
            "Resultado:  {'0': 720, '1': 280}\n",
            "probability distribution = {'0': 0.72, '1': 0.28}\n",
            "<X> = 0.44\n"
          ]
        }
      ],
      "source": [
        "# Circuito\n",
        "circuit_X_mean = QuantumCircuit(quantum_reg, classic_reg)\n",
        "circuit_X_mean.initialize(Psi,0)\n",
        "circuit_X_mean.h(quantum_reg)\n",
        "circuit_X_mean.measure(quantum_reg, classic_reg)\n",
        "\n",
        "display(circuit_X_mean.draw())\n",
        "\n",
        "# Ejecutamos\n",
        "result_X_mean = my_circuit_simulation(circuit_X_mean, 1000)\n",
        "counts_X_mean = result_X_mean.get_counts()\n",
        "print(\"Resultado: \", counts_X_mean)\n",
        "\n",
        "# Distribución de probabilidad\n",
        "prob_distr_X_mean = my_get_prob_dist(counts_X_mean)\n",
        "print(\"probability distribution =\", prob_distr_X_mean)\n",
        "\n",
        "# Calculamos <X>\n",
        "mean_X = 0\n",
        "\n",
        "for bits, probs  in prob_distr_X_mean.items():\n",
        "    mean_X += (-1)**(int(bits)) * probs\n",
        "\n",
        "print('<X> =',np.round(mean_X,5))"
      ]
    },
    {
      "cell_type": "markdown",
      "id": "75b9ddc8-99bc-45b2-9313-4f406a6982b5",
      "metadata": {
        "id": "75b9ddc8-99bc-45b2-9313-4f406a6982b5"
      },
      "source": [
        "<a id='sec_Notebooks_Circ_1_qubit_4.1.4'></a>\n",
        "#### Midiendo $\\langle Y \\rangle$"
      ]
    },
    {
      "cell_type": "code",
      "execution_count": null,
      "id": "d72bc7d9-1dea-4e9c-a037-7a06875ce3bb",
      "metadata": {
        "colab": {
          "base_uri": "https://localhost:8080/",
          "height": 146
        },
        "id": "d72bc7d9-1dea-4e9c-a037-7a06875ce3bb",
        "outputId": "a54fdf0d-49b9-400a-f415-19a7b42d38bf"
      },
      "outputs": [
        {
          "output_type": "display_data",
          "data": {
            "text/plain": [
              "     ┌───────────────────────────────────────┐┌─────┐┌───┐┌─┐\n",
              "  q: ┤ Initialize(0.96891,0.23635+0.073113j) ├┤ Sdg ├┤ H ├┤M├\n",
              "     └───────────────────────────────────────┘└─────┘└───┘└╥┘\n",
              "c: 1/══════════════════════════════════════════════════════╩═\n",
              "                                                           0 "
            ],
            "text/html": [
              "<pre style=\"word-wrap: normal;white-space: pre;background: #fff0;line-height: 1.1;font-family: &quot;Courier New&quot;,Courier,monospace\">     ┌───────────────────────────────────────┐┌─────┐┌───┐┌─┐\n",
              "  q: ┤ Initialize(0.96891,0.23635+0.073113j) ├┤ Sdg ├┤ H ├┤M├\n",
              "     └───────────────────────────────────────┘└─────┘└───┘└╥┘\n",
              "c: 1/══════════════════════════════════════════════════════╩═\n",
              "                                                           0 </pre>"
            ]
          },
          "metadata": {}
        },
        {
          "output_type": "stream",
          "name": "stdout",
          "text": [
            "Resultado:  {'0': 573, '1': 427}\n",
            "probability distribution = {'0': 0.573, '1': 0.427}\n",
            "<Y> = 0.146\n"
          ]
        }
      ],
      "source": [
        "# Circuito\n",
        "circuit_Y_mean = QuantumCircuit(quantum_reg, classic_reg)\n",
        "circuit_Y_mean.initialize(Psi,0)\n",
        "circuit_Y_mean.sdg(quantum_reg)\n",
        "circuit_Y_mean.h(quantum_reg)\n",
        "circuit_Y_mean.measure(quantum_reg, classic_reg)\n",
        "\n",
        "display(circuit_Y_mean.draw())\n",
        "\n",
        "# Ejecutamos\n",
        "result_Y_mean = my_circuit_simulation(circuit_Y_mean, 1000)\n",
        "counts_Y_mean = result_Y_mean.get_counts()\n",
        "print(\"Resultado: \", counts_Y_mean)\n",
        "\n",
        "# Distribución de probabilidad\n",
        "prob_distr_Y_mean = my_get_prob_dist(counts_Y_mean)\n",
        "print(\"probability distribution =\", prob_distr_Y_mean)\n",
        "\n",
        "# Calculamos <Y>\n",
        "mean_Y = 0\n",
        "\n",
        "for bits, probs  in prob_distr_Y_mean.items():\n",
        "    mean_Y += (-1)**(int(bits)) * probs\n",
        "\n",
        "print('<Y> =',np.round(mean_Y,5))"
      ]
    },
    {
      "cell_type": "markdown",
      "id": "1e58bc13-0a1d-4ff3-8bb3-824927475193",
      "metadata": {
        "id": "1e58bc13-0a1d-4ff3-8bb3-824927475193"
      },
      "source": [
        "<div style=\"background-color:#c8e6c9\">\n",
        "<hr>\n",
        "<b>Ejercicio:</b>\n",
        "\n",
        "Toma los valores medios medidos anteriores $x=\\langle X \\rangle$, $y=\\langle Y \\rangle$, $z=\\langle Z \\rangle$ y a partir de ellos:\n",
        "- Construye el vector cartesiano $\\vec{n}=(x,y,z)$\n",
        "- Normalízalo: $\\hat{n}$\n",
        "- Dibúja estas coordenadas de $\\hat{n}$ sobre la esfera de Bloch (sugerencia: consulta la conversión de coordenadas cartesianas a esféricas: https://en.wikipedia.org/wiki/Spherical_coordinate_system#Cartesian_coordinates ; puedes dibujar un estado con las coordenadas esféricas resultantes)\n",
        "\n",
        "¿Qué observas? Explica el resultado\n",
        "<hr>\n",
        "</div>"
      ]
    },
    {
      "cell_type": "code",
      "source": [
        "# prompt: Con los valores obtenidos de X, Y y Z anteriores, da un vector de 3 componentes, n, normalizalo y dibuja sus coordenadas, en esféricas, en una esfera de Bloch.\n",
        "# Luego representa la esfera de Bloch con el vector a traves de display como en resultados anteriores.\n",
        "\n",
        "import numpy as np\n",
        "from qiskit.visualization import plot_bloch_vector\n",
        "from qiskit.quantum_info import Statevector\n",
        "from IPython.display import display\n",
        "from qiskit import QuantumCircuit # Import QuantumCircuit\n",
        "\n",
        "# Assuming mean_X, mean_Y, and mean_Z are defined from previous calculations\n",
        "# Replace with your actual values\n",
        "\n",
        "# Example values (replace with your actual calculated values)\n",
        "mean_X = 0.5\n",
        "mean_Y = 0.3\n",
        "mean_Z = 0.7\n",
        "\n",
        "\n",
        "# Construct the cartesian vector\n",
        "n = np.array([mean_X, mean_Y, mean_Z])\n",
        "\n",
        "# Normalize the vector\n",
        "n_hat = n / np.linalg.norm(n)\n",
        "\n",
        "# Convert to spherical coordinates\n",
        "theta = np.arccos(n_hat[2])\n",
        "phi = np.arctan2(n_hat[1], n_hat[0])\n",
        "\n",
        "\n",
        "# Plot on Bloch sphere\n",
        "plot_bloch_vector(n_hat, coord_type='cartesian') # or coord_type='spherical' if you prefer\n",
        "# Display the Bloch sphere\n",
        "plt.show()\n",
        "\n",
        "#Explanation\n",
        "print(\"The vector n̂ represents the state on the Bloch sphere.\")\n",
        "\n",
        "# Convert cartesian to spherical to display coordinates\n",
        "print(f\"Cartesian vector n: {n}\")\n",
        "print(f\"Normalized vector n̂: {n_hat}\")\n",
        "print(f\"Spherical Coordinates (θ, φ): ({theta}, {phi})\")\n",
        "\n",
        "#Create statevector from coordinates\n",
        "spherical_state = Statevector.from_label('0') #arbitrary start\n",
        "qc = QuantumCircuit(1) # Create a QuantumCircuit object\n",
        "qc.rz(2*phi,0) # Add rz gate\n",
        "qc.ry(2*theta,0) # Add ry gate\n",
        "spherical_state = spherical_state.evolve(qc)  # Evolve the statevector using the circuit\n",
        "\n",
        "display(spherical_state.draw('latex'))"
      ],
      "metadata": {
        "colab": {
          "base_uri": "https://localhost:8080/",
          "height": 108
        },
        "id": "9C0V7G3tD-CV",
        "outputId": "e3ba161b-904d-49bf-92ec-231ea728eea8"
      },
      "id": "9C0V7G3tD-CV",
      "execution_count": null,
      "outputs": [
        {
          "output_type": "stream",
          "name": "stdout",
          "text": [
            "The vector n̂ represents the state on the Bloch sphere.\n",
            "Cartesian vector n: [0.5 0.3 0.7]\n",
            "Normalized vector n̂: [0.5488213  0.32929278 0.76834982]\n",
            "Spherical Coordinates (θ, φ): (0.6945374655855547, 0.5404195002705842)\n"
          ]
        },
        {
          "output_type": "display_data",
          "data": {
            "text/plain": [
              "<IPython.core.display.Latex object>"
            ],
            "text/latex": "$$(0.6588545351 - 0.395312721 i) |0\\rangle+(0.5488212999 - 0.32929278 i) |1\\rangle$$"
          },
          "metadata": {}
        }
      ]
    },
    {
      "cell_type": "markdown",
      "id": "59981803-08de-454f-92e8-f40077c22041",
      "metadata": {
        "id": "59981803-08de-454f-92e8-f40077c22041"
      },
      "source": [
        "<a id='sec_Notebooks_Circ_1_qubit_4.2'></a>\n",
        "### Valor esperado de un operador unitario (no necesariamente hermítico)"
      ]
    },
    {
      "cell_type": "markdown",
      "id": "4d48db7b-92da-4a2e-aff0-a3c3827f2040",
      "metadata": {
        "id": "4d48db7b-92da-4a2e-aff0-a3c3827f2040"
      },
      "source": [
        "Vamos a construir dos operadores U y V y calcular\n",
        "$$\\langle V \\rangle_\\Psi = \\langle \\Psi | V| \\Psi \\rangle = \\langle 0 | U^\\dagger V U |0\\rangle = \\langle 0 | {\\tilde \\Psi} \\rangle\n",
        "$$"
      ]
    },
    {
      "cell_type": "code",
      "execution_count": null,
      "id": "8ec7b05d-a778-406f-adba-f1f93c896a7a",
      "metadata": {
        "colab": {
          "base_uri": "https://localhost:8080/",
          "height": 221
        },
        "id": "8ec7b05d-a778-406f-adba-f1f93c896a7a",
        "outputId": "cdc9c454-5003-4d21-ed68-226118463b63"
      },
      "outputs": [
        {
          "output_type": "display_data",
          "data": {
            "text/plain": [
              "     ┌───────────────┐┌──────────────────┐┌──────────────────┐┌─┐\n",
              "  q: ┤ U3(π/6,π/2,π) ├┤ U3(π/2,π/3,2π/7) ├┤ U3(-π/6,-π,-π/2) ├┤M├\n",
              "     └───────────────┘└──────────────────┘└──────────────────┘└╥┘\n",
              "c: 1/══════════════════════════════════════════════════════════╩═\n",
              "                                                               0 "
            ],
            "text/html": [
              "<pre style=\"word-wrap: normal;white-space: pre;background: #fff0;line-height: 1.1;font-family: &quot;Courier New&quot;,Courier,monospace\">     ┌───────────────┐┌──────────────────┐┌──────────────────┐┌─┐\n",
              "  q: ┤ U3(π/6,π/2,π) ├┤ U3(π/2,π/3,2π/7) ├┤ U3(-π/6,-π,-π/2) ├┤M├\n",
              "     └───────────────┘└──────────────────┘└──────────────────┘└╥┘\n",
              "c: 1/══════════════════════════════════════════════════════════╩═\n",
              "                                                               0 </pre>"
            ]
          },
          "metadata": {}
        },
        {
          "output_type": "display_data",
          "data": {
            "text/plain": [
              "global phase: 6.1192\n",
              "     ┌────────────────────────────┐┌─┐\n",
              "  q: ┤ U3(0.65757,2.8716,-0.5988) ├┤M├\n",
              "     └────────────────────────────┘└╥┘\n",
              "c: 1/═══════════════════════════════╩═\n",
              "                                    0 "
            ],
            "text/html": [
              "<pre style=\"word-wrap: normal;white-space: pre;background: #fff0;line-height: 1.1;font-family: &quot;Courier New&quot;,Courier,monospace\">global phase: 6.1192\n",
              "     ┌────────────────────────────┐┌─┐\n",
              "  q: ┤ U3(0.65757,2.8716,-0.5988) ├┤M├\n",
              "     └────────────────────────────┘└╥┘\n",
              "c: 1/═══════════════════════════════╩═\n",
              "                                    0 </pre>"
            ]
          },
          "metadata": {}
        },
        {
          "output_type": "stream",
          "name": "stdout",
          "text": [
            "Resultado:  {'1': 5265, '0': 44735}\n",
            " |<V>| =  0.9458858282054976 ,  ||<V>||^2 =  0.8947000000000002\n"
          ]
        }
      ],
      "source": [
        "from qiskit.circuit.library import U3Gate\n",
        "\n",
        "circuit_V_mean = QuantumCircuit(quantum_reg, classic_reg)\n",
        "\n",
        "theta_U  = np.pi/6\n",
        "phi_U    = np.pi/2\n",
        "varphi_U = np.pi\n",
        "U        = U3Gate(theta_U, phi_U, varphi_U)\n",
        "U_dagger = U3Gate(theta_U, phi_U, varphi_U).inverse()\n",
        "\n",
        "theta_V  = np.pi/2\n",
        "phi_V    = np.pi/3\n",
        "varphi_V = 2*np.pi/7\n",
        "V        = U3Gate(theta_V, phi_V, varphi_V)\n",
        "\n",
        "circuit_V_mean.append(U, quantum_reg)\n",
        "circuit_V_mean.append(V, quantum_reg)\n",
        "circuit_V_mean.append(U_dagger, quantum_reg)\n",
        "circuit_V_mean.measure(quantum_reg, classic_reg)\n",
        "\n",
        "display(circuit_V_mean.draw())\n",
        "\n",
        "# Transpilamos\n",
        "t_circuit_V_mean = transpile(circuit_V_mean, backend = simulador)\n",
        "\n",
        "display(t_circuit_V_mean.draw())\n",
        "\n",
        "# Ejecutamos\n",
        "shots = 50000\n",
        "result_V_mean = simulador.run(t_circuit_V_mean, shots = shots).result()\n",
        "counts_V_mean = result_V_mean.get_counts()\n",
        "print(\"Resultado: \", counts_V_mean)\n",
        "\n",
        "# Media\n",
        "V_mean = np.sqrt(counts_V_mean['0']/shots)\n",
        "print(\" |<V>| = \", V_mean, \",  ||<V>||^2 = \", np.abs(V_mean) ** 2)"
      ]
    },
    {
      "cell_type": "code",
      "execution_count": null,
      "id": "f7a8bfce-8508-4a59-a6e8-282e26994299",
      "metadata": {
        "id": "f7a8bfce-8508-4a59-a6e8-282e26994299"
      },
      "outputs": [],
      "source": []
    },
    {
      "cell_type": "markdown",
      "id": "00ad3bd9-a960-4924-8edf-b42429db903e",
      "metadata": {
        "id": "00ad3bd9-a960-4924-8edf-b42429db903e"
      },
      "source": [
        "<div style=\"background-color:#c8e6c9\">\n",
        "<hr>\n",
        "<b>Ejercicio:</b>\n",
        "\n",
        "<!--\n",
        "<b> <font size=\"+1\"><span style=\"color:red\">[OPCIONAL, PARA OPTAR A NOTA] </span></font></b>\n",
        "-->\n",
        "\n",
        "Con el método Qiskit ```.to_matrix()``` de los operadores, como, U y V, se puede obtener la representación matricial de los mismos.\n",
        "\n",
        "A partir de dicha representación, determina numéricamente las siguientes espressiones, que son equivalentes a la medición anterior (nótese que $|\\Psi\\rangle = U |0\\rangle$ y $| \\tilde{\\Psi}\\rangle = U^{\\dagger} V U |0\\rangle$):\n",
        "\n",
        "- $||\\langle \\Psi | V| \\Psi\\rangle ||^2$\n",
        "- $||\\langle 0 | U^{\\dagger} V U | 0 \\rangle ||^2$\n",
        "- $||\\langle 0|\\tilde{\\Psi} \\rangle||^2$\n",
        "\n",
        "Observando los valores de las expresiones $\\langle \\Psi | V| \\Psi \\rangle$, $\\langle 0|\\tilde{\\Psi} \\rangle$:\n",
        "- ¿pueden tener un _valor complejo_ en este caso?\n",
        "\n",
        "<hr>\n",
        "</div>"
      ]
    },
    {
      "cell_type": "code",
      "execution_count": null,
      "id": "3aaf7268-89d0-4cbd-93d3-2d661fc12001",
      "metadata": {
        "colab": {
          "base_uri": "https://localhost:8080/",
          "height": 316
        },
        "id": "3aaf7268-89d0-4cbd-93d3-2d661fc12001",
        "outputId": "f1e0ff61-fe0f-4ebe-ac83-8da249933ecc"
      },
      "outputs": [
        {
          "output_type": "display_data",
          "data": {
            "text/plain": [
              "<IPython.core.display.HTML object>"
            ],
            "text/html": [
              "<h3>Version Information</h3><table><tr><th>Software</th><th>Version</th></tr><tr><td><code>qiskit</code></td><td>0.45.2</td></tr><tr><td><code>qiskit_aer</code></td><td>0.14.2</td></tr><tr><td><code>qiskit_ibm_runtime</code></td><td>0.20.0</td></tr><tr><th colspan='2'>System information</th></tr><tr><td>Python version</td><td>3.10.12</td></tr><tr><td>Python compiler</td><td>GCC 11.4.0</td></tr><tr><td>Python build</td><td>main, Sep 11 2024 15:47:36</td></tr><tr><td>OS</td><td>Linux</td></tr><tr><td>CPUs</td><td>1</td></tr><tr><td>Memory (Gb)</td><td>12.67477035522461</td></tr><tr><td colspan='2'>Sat Nov 02 13:31:12 2024 UTC</td></tr></table>"
            ]
          },
          "metadata": {}
        }
      ],
      "source": [
        "import qiskit\n",
        "from qiskit_aer import AerSimulator\n",
        "import qiskit.tools.jupyter\n",
        "%qiskit_version_table"
      ]
    },
    {
      "cell_type": "code",
      "source": [
        "# prompt: Con el método Qiskit .to_matrix() de los operadores, como, U y V, se puede obtener la representación matricial de los mismos.\n",
        "# A partir de dicha representación, determina numéricamente las siguientes espressiones, que son equivalentes a la medición anterior (nótese que  |Ψ⟩=U|0⟩  y  |Ψ~⟩=U†VU|0⟩ ):\n",
        "# ⟨Ψ|V|Ψ⟩\n",
        "# ⟨0|Ψ~⟩\n",
        "# ||⟨Ψ|V|Ψ⟩||2\n",
        "# ||⟨0|U†VU|0⟩||2\n",
        "# ||⟨0|Ψ~⟩||2\n",
        "\n",
        "import numpy as np\n",
        "from qiskit.circuit.library import U3Gate\n",
        "from qiskit.quantum_info import Operator\n",
        "\n",
        "# Define U and V gates as before\n",
        "theta_U = np.pi / 6\n",
        "phi_U = np.pi / 2\n",
        "varphi_U = np.pi\n",
        "U = U3Gate(theta_U, phi_U, varphi_U)\n",
        "\n",
        "theta_V = np.pi / 2\n",
        "phi_V = np.pi / 3\n",
        "varphi_V = 2 * np.pi / 7\n",
        "V = U3Gate(theta_V, phi_V, varphi_V)\n",
        "\n",
        "# Convert gates to matrices\n",
        "U_matrix = Operator(U).data\n",
        "V_matrix = Operator(V).data\n",
        "\n",
        "# Define |0> state\n",
        "zero_state = np.array([[1], [0]])\n",
        "\n",
        "# Calculate |Ψ⟩ = U|0⟩\n",
        "psi = U_matrix @ zero_state\n",
        "\n",
        "# Calculate |Ψ~⟩ = U†VU|0⟩\n",
        "psi_tilde = U_matrix.conj().T @ V_matrix @ U_matrix @ zero_state\n",
        "\n",
        "\n",
        "# Calculate ⟨Ψ|V|Ψ⟩\n",
        "inner_product_1 = psi.conj().T @ V_matrix @ psi\n",
        "\n",
        "# Calculate ⟨0|Ψ~⟩\n",
        "inner_product_2 = zero_state.conj().T @ psi_tilde\n",
        "\n",
        "# Calculate ||⟨Ψ|V|Ψ⟩||²\n",
        "norm_1_squared = np.abs(inner_product_1)**2\n",
        "\n",
        "# Calculate ||⟨0|U†VU|0⟩||²\n",
        "norm_2_squared = np.abs(inner_product_2)**2\n",
        "\n",
        "# Calculate ||⟨0|Ψ~⟩||² (same as above)\n",
        "norm_3_squared = np.abs(inner_product_2)**2\n",
        "\n",
        "print(\"⟨Ψ|V|Ψ⟩ =\", inner_product_1)\n",
        "print(\"⟨0|Ψ~⟩ =\", inner_product_2)\n",
        "print(\"||⟨Ψ|V|Ψ⟩||² =\", norm_1_squared)\n",
        "print(\"||⟨0|U†VU|0⟩||² =\", norm_2_squared)\n",
        "print(\"||⟨0|Ψ~⟩||² =\", norm_3_squared)\n",
        "\n",
        "#Can they have a complex value in this case?\n",
        "print(\"\\nCan ⟨Ψ|V|Ψ⟩ and ⟨0|Ψ~⟩ have a complex value?\")\n",
        "print(\"Yes, in general, these inner products can be complex numbers.  However, their norms squared will always be real and non-negative.\")"
      ],
      "metadata": {
        "colab": {
          "base_uri": "https://localhost:8080/"
        },
        "id": "RjfLiF9HEqNL",
        "outputId": "410c79a8-2836-45f0-86ee-aad41b3dbf61"
      },
      "id": "RjfLiF9HEqNL",
      "execution_count": null,
      "outputs": [
        {
          "output_type": "stream",
          "name": "stdout",
          "text": [
            "⟨Ψ|V|Ψ⟩ = [[0.93373713-0.15451396j]]\n",
            "⟨0|Ψ~⟩ = [[0.93373713-0.15451396j]]\n",
            "||⟨Ψ|V|Ψ⟩||² = [[0.89573959]]\n",
            "||⟨0|U†VU|0⟩||² = [[0.89573959]]\n",
            "||⟨0|Ψ~⟩||² = [[0.89573959]]\n",
            "\n",
            "Can ⟨Ψ|V|Ψ⟩ and ⟨0|Ψ~⟩ have a complex value?\n",
            "Yes, in general, these inner products can be complex numbers.  However, their norms squared will always be real and non-negative.\n"
          ]
        }
      ]
    }
  ],
  "metadata": {
    "kernelspec": {
      "display_name": "Python 3 (ipykernel)",
      "language": "python",
      "name": "python3"
    },
    "language_info": {
      "codemirror_mode": {
        "name": "ipython",
        "version": 3
      },
      "file_extension": ".py",
      "mimetype": "text/x-python",
      "name": "python",
      "nbconvert_exporter": "python",
      "pygments_lexer": "ipython3",
      "version": "3.12.5"
    },
    "colab": {
      "provenance": [],
      "include_colab_link": true
    }
  },
  "nbformat": 4,
  "nbformat_minor": 5
}