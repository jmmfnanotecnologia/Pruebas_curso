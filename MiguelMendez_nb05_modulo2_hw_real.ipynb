{
  "cells": [
    {
      "cell_type": "markdown",
      "metadata": {
        "id": "view-in-github",
        "colab_type": "text"
      },
      "source": [
        "<a href=\"https://colab.research.google.com/github/jmmfnanotecnologia/Pruebas_curso/blob/main/MiguelMendez_nb05_modulo2_hw_real.ipynb\" target=\"_parent\"><img src=\"https://colab.research.google.com/assets/colab-badge.svg\" alt=\"Open In Colab\"/></a>"
      ]
    },
    {
      "cell_type": "code",
      "execution_count": null,
      "id": "cdfc07da-b773-4048-a6b8-1258f41edd85",
      "metadata": {
        "id": "cdfc07da-b773-4048-a6b8-1258f41edd85",
        "outputId": "7a68f0dc-30a5-467c-f988-3832a408f27a",
        "colab": {
          "base_uri": "https://localhost:8080/"
        }
      },
      "outputs": [
        {
          "output_type": "stream",
          "name": "stdout",
          "text": [
            "In colab, let's install things...\n",
            "Collecting qiskit==1.2.2 (from qiskit[visualization]==1.2.2)\n",
            "  Downloading qiskit-1.2.2-cp38-abi3-manylinux_2_17_x86_64.manylinux2014_x86_64.whl.metadata (12 kB)\n",
            "Collecting qiskit-aer\n",
            "  Downloading qiskit_aer-0.15.1-cp310-cp310-manylinux_2_17_x86_64.manylinux2014_x86_64.whl.metadata (8.0 kB)\n",
            "Collecting qiskit-ibm-runtime\n",
            "  Downloading qiskit_ibm_runtime-0.32.0-py3-none-any.whl.metadata (19 kB)\n",
            "Collecting rustworkx>=0.15.0 (from qiskit==1.2.2->qiskit[visualization]==1.2.2)\n",
            "  Downloading rustworkx-0.15.1-cp38-abi3-manylinux_2_17_x86_64.manylinux2014_x86_64.whl.metadata (9.9 kB)\n",
            "Requirement already satisfied: numpy<3,>=1.17 in /usr/local/lib/python3.10/dist-packages (from qiskit==1.2.2->qiskit[visualization]==1.2.2) (1.26.4)\n",
            "Requirement already satisfied: scipy>=1.5 in /usr/local/lib/python3.10/dist-packages (from qiskit==1.2.2->qiskit[visualization]==1.2.2) (1.13.1)\n",
            "Requirement already satisfied: sympy>=1.3 in /usr/local/lib/python3.10/dist-packages (from qiskit==1.2.2->qiskit[visualization]==1.2.2) (1.13.1)\n",
            "Collecting dill>=0.3 (from qiskit==1.2.2->qiskit[visualization]==1.2.2)\n",
            "  Downloading dill-0.3.9-py3-none-any.whl.metadata (10 kB)\n",
            "Requirement already satisfied: python-dateutil>=2.8.0 in /usr/local/lib/python3.10/dist-packages (from qiskit==1.2.2->qiskit[visualization]==1.2.2) (2.8.2)\n",
            "Collecting stevedore>=3.0.0 (from qiskit==1.2.2->qiskit[visualization]==1.2.2)\n",
            "  Downloading stevedore-5.3.0-py3-none-any.whl.metadata (2.3 kB)\n",
            "Requirement already satisfied: typing-extensions in /usr/local/lib/python3.10/dist-packages (from qiskit==1.2.2->qiskit[visualization]==1.2.2) (4.12.2)\n",
            "Collecting symengine>=0.11 (from qiskit==1.2.2->qiskit[visualization]==1.2.2)\n",
            "  Downloading symengine-0.13.0-cp310-cp310-manylinux_2_17_x86_64.manylinux2014_x86_64.whl.metadata (1.2 kB)\n",
            "Requirement already satisfied: matplotlib>=3.3 in /usr/local/lib/python3.10/dist-packages (from qiskit[visualization]==1.2.2) (3.8.0)\n",
            "Requirement already satisfied: pydot in /usr/local/lib/python3.10/dist-packages (from qiskit[visualization]==1.2.2) (3.0.2)\n",
            "Requirement already satisfied: Pillow>=4.2.1 in /usr/local/lib/python3.10/dist-packages (from qiskit[visualization]==1.2.2) (10.4.0)\n",
            "Collecting pylatexenc>=1.4 (from qiskit[visualization]==1.2.2)\n",
            "  Downloading pylatexenc-2.10.tar.gz (162 kB)\n",
            "\u001b[2K     \u001b[90m━━━━━━━━━━━━━━━━━━━━━━━━━━━━━━━━━━━━━━━━\u001b[0m \u001b[32m162.6/162.6 kB\u001b[0m \u001b[31m3.3 MB/s\u001b[0m eta \u001b[36m0:00:00\u001b[0m\n",
            "\u001b[?25h  Preparing metadata (setup.py) ... \u001b[?25l\u001b[?25hdone\n",
            "Requirement already satisfied: seaborn>=0.9.0 in /usr/local/lib/python3.10/dist-packages (from qiskit[visualization]==1.2.2) (0.13.2)\n",
            "Requirement already satisfied: psutil>=5 in /usr/local/lib/python3.10/dist-packages (from qiskit-aer) (5.9.5)\n",
            "Requirement already satisfied: requests>=2.19 in /usr/local/lib/python3.10/dist-packages (from qiskit-ibm-runtime) (2.32.3)\n",
            "Collecting requests-ntlm>=1.1.0 (from qiskit-ibm-runtime)\n",
            "  Downloading requests_ntlm-1.3.0-py3-none-any.whl.metadata (2.4 kB)\n",
            "Requirement already satisfied: urllib3>=1.21.1 in /usr/local/lib/python3.10/dist-packages (from qiskit-ibm-runtime) (2.2.3)\n",
            "Requirement already satisfied: websocket-client>=1.5.1 in /usr/local/lib/python3.10/dist-packages (from qiskit-ibm-runtime) (1.8.0)\n",
            "Collecting ibm-platform-services>=0.22.6 (from qiskit-ibm-runtime)\n",
            "  Downloading ibm_platform_services-0.59.0-py3-none-any.whl.metadata (9.0 kB)\n",
            "Requirement already satisfied: pydantic>=2.5.0 in /usr/local/lib/python3.10/dist-packages (from qiskit-ibm-runtime) (2.9.2)\n",
            "Collecting ibm-cloud-sdk-core<4.0.0,>=3.22.0 (from ibm-platform-services>=0.22.6->qiskit-ibm-runtime)\n",
            "  Downloading ibm_cloud_sdk_core-3.22.0-py3-none-any.whl.metadata (8.6 kB)\n",
            "Requirement already satisfied: contourpy>=1.0.1 in /usr/local/lib/python3.10/dist-packages (from matplotlib>=3.3->qiskit[visualization]==1.2.2) (1.3.0)\n",
            "Requirement already satisfied: cycler>=0.10 in /usr/local/lib/python3.10/dist-packages (from matplotlib>=3.3->qiskit[visualization]==1.2.2) (0.12.1)\n",
            "Requirement already satisfied: fonttools>=4.22.0 in /usr/local/lib/python3.10/dist-packages (from matplotlib>=3.3->qiskit[visualization]==1.2.2) (4.54.1)\n",
            "Requirement already satisfied: kiwisolver>=1.0.1 in /usr/local/lib/python3.10/dist-packages (from matplotlib>=3.3->qiskit[visualization]==1.2.2) (1.4.7)\n",
            "Requirement already satisfied: packaging>=20.0 in /usr/local/lib/python3.10/dist-packages (from matplotlib>=3.3->qiskit[visualization]==1.2.2) (24.1)\n",
            "Requirement already satisfied: pyparsing>=2.3.1 in /usr/local/lib/python3.10/dist-packages (from matplotlib>=3.3->qiskit[visualization]==1.2.2) (3.2.0)\n",
            "Requirement already satisfied: annotated-types>=0.6.0 in /usr/local/lib/python3.10/dist-packages (from pydantic>=2.5.0->qiskit-ibm-runtime) (0.7.0)\n",
            "Requirement already satisfied: pydantic-core==2.23.4 in /usr/local/lib/python3.10/dist-packages (from pydantic>=2.5.0->qiskit-ibm-runtime) (2.23.4)\n",
            "Requirement already satisfied: six>=1.5 in /usr/local/lib/python3.10/dist-packages (from python-dateutil>=2.8.0->qiskit==1.2.2->qiskit[visualization]==1.2.2) (1.16.0)\n",
            "Requirement already satisfied: charset-normalizer<4,>=2 in /usr/local/lib/python3.10/dist-packages (from requests>=2.19->qiskit-ibm-runtime) (3.4.0)\n",
            "Requirement already satisfied: idna<4,>=2.5 in /usr/local/lib/python3.10/dist-packages (from requests>=2.19->qiskit-ibm-runtime) (3.10)\n",
            "Requirement already satisfied: certifi>=2017.4.17 in /usr/local/lib/python3.10/dist-packages (from requests>=2.19->qiskit-ibm-runtime) (2024.8.30)\n",
            "Requirement already satisfied: cryptography>=1.3 in /usr/local/lib/python3.10/dist-packages (from requests-ntlm>=1.1.0->qiskit-ibm-runtime) (43.0.3)\n",
            "Collecting pyspnego>=0.4.0 (from requests-ntlm>=1.1.0->qiskit-ibm-runtime)\n",
            "  Downloading pyspnego-0.11.1-py3-none-any.whl.metadata (5.4 kB)\n",
            "Requirement already satisfied: pandas>=1.2 in /usr/local/lib/python3.10/dist-packages (from seaborn>=0.9.0->qiskit[visualization]==1.2.2) (2.2.2)\n",
            "Collecting pbr>=2.0.0 (from stevedore>=3.0.0->qiskit==1.2.2->qiskit[visualization]==1.2.2)\n",
            "  Downloading pbr-6.1.0-py2.py3-none-any.whl.metadata (3.4 kB)\n",
            "Requirement already satisfied: mpmath<1.4,>=1.1.0 in /usr/local/lib/python3.10/dist-packages (from sympy>=1.3->qiskit==1.2.2->qiskit[visualization]==1.2.2) (1.3.0)\n",
            "Requirement already satisfied: cffi>=1.12 in /usr/local/lib/python3.10/dist-packages (from cryptography>=1.3->requests-ntlm>=1.1.0->qiskit-ibm-runtime) (1.17.1)\n",
            "Requirement already satisfied: PyJWT<3.0.0,>=2.8.0 in /usr/local/lib/python3.10/dist-packages (from ibm-cloud-sdk-core<4.0.0,>=3.22.0->ibm-platform-services>=0.22.6->qiskit-ibm-runtime) (2.9.0)\n",
            "Requirement already satisfied: pytz>=2020.1 in /usr/local/lib/python3.10/dist-packages (from pandas>=1.2->seaborn>=0.9.0->qiskit[visualization]==1.2.2) (2024.2)\n",
            "Requirement already satisfied: tzdata>=2022.7 in /usr/local/lib/python3.10/dist-packages (from pandas>=1.2->seaborn>=0.9.0->qiskit[visualization]==1.2.2) (2024.2)\n",
            "Requirement already satisfied: pycparser in /usr/local/lib/python3.10/dist-packages (from cffi>=1.12->cryptography>=1.3->requests-ntlm>=1.1.0->qiskit-ibm-runtime) (2.22)\n",
            "Downloading qiskit-1.2.2-cp38-abi3-manylinux_2_17_x86_64.manylinux2014_x86_64.whl (4.7 MB)\n",
            "\u001b[2K   \u001b[90m━━━━━━━━━━━━━━━━━━━━━━━━━━━━━━━━━━━━━━━━\u001b[0m \u001b[32m4.7/4.7 MB\u001b[0m \u001b[31m15.6 MB/s\u001b[0m eta \u001b[36m0:00:00\u001b[0m\n",
            "\u001b[?25hDownloading qiskit_aer-0.15.1-cp310-cp310-manylinux_2_17_x86_64.manylinux2014_x86_64.whl (12.3 MB)\n",
            "\u001b[2K   \u001b[90m━━━━━━━━━━━━━━━━━━━━━━━━━━━━━━━━━━━━━━━━\u001b[0m \u001b[32m12.3/12.3 MB\u001b[0m \u001b[31m29.3 MB/s\u001b[0m eta \u001b[36m0:00:00\u001b[0m\n",
            "\u001b[?25hDownloading qiskit_ibm_runtime-0.32.0-py3-none-any.whl (3.0 MB)\n",
            "\u001b[2K   \u001b[90m━━━━━━━━━━━━━━━━━━━━━━━━━━━━━━━━━━━━━━━━\u001b[0m \u001b[32m3.0/3.0 MB\u001b[0m \u001b[31m19.6 MB/s\u001b[0m eta \u001b[36m0:00:00\u001b[0m\n",
            "\u001b[?25hDownloading dill-0.3.9-py3-none-any.whl (119 kB)\n",
            "\u001b[2K   \u001b[90m━━━━━━━━━━━━━━━━━━━━━━━━━━━━━━━━━━━━━━━━\u001b[0m \u001b[32m119.4/119.4 kB\u001b[0m \u001b[31m5.4 MB/s\u001b[0m eta \u001b[36m0:00:00\u001b[0m\n",
            "\u001b[?25hDownloading ibm_platform_services-0.59.0-py3-none-any.whl (340 kB)\n",
            "\u001b[2K   \u001b[90m━━━━━━━━━━━━━━━━━━━━━━━━━━━━━━━━━━━━━━━━\u001b[0m \u001b[32m340.8/340.8 kB\u001b[0m \u001b[31m11.2 MB/s\u001b[0m eta \u001b[36m0:00:00\u001b[0m\n",
            "\u001b[?25hDownloading requests_ntlm-1.3.0-py3-none-any.whl (6.6 kB)\n",
            "Downloading rustworkx-0.15.1-cp38-abi3-manylinux_2_17_x86_64.manylinux2014_x86_64.whl (2.0 MB)\n",
            "\u001b[2K   \u001b[90m━━━━━━━━━━━━━━━━━━━━━━━━━━━━━━━━━━━━━━━━\u001b[0m \u001b[32m2.0/2.0 MB\u001b[0m \u001b[31m18.4 MB/s\u001b[0m eta \u001b[36m0:00:00\u001b[0m\n",
            "\u001b[?25hDownloading stevedore-5.3.0-py3-none-any.whl (49 kB)\n",
            "\u001b[2K   \u001b[90m━━━━━━━━━━━━━━━━━━━━━━━━━━━━━━━━━━━━━━━━\u001b[0m \u001b[32m49.7/49.7 kB\u001b[0m \u001b[31m2.4 MB/s\u001b[0m eta \u001b[36m0:00:00\u001b[0m\n",
            "\u001b[?25hDownloading symengine-0.13.0-cp310-cp310-manylinux_2_17_x86_64.manylinux2014_x86_64.whl (49.7 MB)\n",
            "\u001b[2K   \u001b[90m━━━━━━━━━━━━━━━━━━━━━━━━━━━━━━━━━━━━━━━━\u001b[0m \u001b[32m49.7/49.7 MB\u001b[0m \u001b[31m10.8 MB/s\u001b[0m eta \u001b[36m0:00:00\u001b[0m\n",
            "\u001b[?25hDownloading ibm_cloud_sdk_core-3.22.0-py3-none-any.whl (69 kB)\n",
            "\u001b[2K   \u001b[90m━━━━━━━━━━━━━━━━━━━━━━━━━━━━━━━━━━━━━━━━\u001b[0m \u001b[32m69.4/69.4 kB\u001b[0m \u001b[31m2.9 MB/s\u001b[0m eta \u001b[36m0:00:00\u001b[0m\n",
            "\u001b[?25hDownloading pbr-6.1.0-py2.py3-none-any.whl (108 kB)\n",
            "\u001b[2K   \u001b[90m━━━━━━━━━━━━━━━━━━━━━━━━━━━━━━━━━━━━━━━━\u001b[0m \u001b[32m108.5/108.5 kB\u001b[0m \u001b[31m6.4 MB/s\u001b[0m eta \u001b[36m0:00:00\u001b[0m\n",
            "\u001b[?25hDownloading pyspnego-0.11.1-py3-none-any.whl (130 kB)\n",
            "\u001b[2K   \u001b[90m━━━━━━━━━━━━━━━━━━━━━━━━━━━━━━━━━━━━━━━━\u001b[0m \u001b[32m130.5/130.5 kB\u001b[0m \u001b[31m6.7 MB/s\u001b[0m eta \u001b[36m0:00:00\u001b[0m\n",
            "\u001b[?25hBuilding wheels for collected packages: pylatexenc\n",
            "  Building wheel for pylatexenc (setup.py) ... \u001b[?25l\u001b[?25hdone\n",
            "  Created wheel for pylatexenc: filename=pylatexenc-2.10-py3-none-any.whl size=136816 sha256=60e9c3ee1276b2f787cff051b51c25ab9c30841bcf797927412643dbc7a59938\n",
            "  Stored in directory: /root/.cache/pip/wheels/d3/31/8b/e09b0386afd80cfc556c00408c9aeea5c35c4d484a9c762fd5\n",
            "Successfully built pylatexenc\n",
            "Installing collected packages: pylatexenc, symengine, rustworkx, pbr, dill, stevedore, ibm-cloud-sdk-core, qiskit, pyspnego, ibm-platform-services, requests-ntlm, qiskit-aer, qiskit-ibm-runtime\n",
            "Successfully installed dill-0.3.9 ibm-cloud-sdk-core-3.22.0 ibm-platform-services-0.59.0 pbr-6.1.0 pylatexenc-2.10 pyspnego-0.11.1 qiskit-1.2.2 qiskit-aer-0.15.1 qiskit-ibm-runtime-0.32.0 requests-ntlm-1.3.0 rustworkx-0.15.1 stevedore-5.3.0 symengine-0.13.0\n"
          ]
        }
      ],
      "source": [
        "# No olvidar que en \"google colab\" hay que instalar qiskit\n",
        "\n",
        "########################\n",
        "# PARA LANZAR EN EL HW DE IBM\n",
        "# SE REQUIERE LA ÚLTIMA VERSIÓN\n",
        "########################\n",
        "# Instalar versión 1.2.2\n",
        "########################\n",
        "# Importante, poner qiskit-aer en la misma linea de \"pip install\" para que coja la versión adecuada\n",
        "try:\n",
        "    import google.colab\n",
        "    print(\"In colab, let's install things...\")\n",
        "    #\n",
        "    !pip install qiskit[visualization]==1.2.2 qiskit-aer qiskit-ibm-runtime\n",
        "except ImportError:\n",
        "    print(\"NOT in colab\")"
      ]
    },
    {
      "cell_type": "code",
      "execution_count": null,
      "id": "3aaf7268-89d0-4cbd-93d3-2d661fc12001",
      "metadata": {
        "id": "3aaf7268-89d0-4cbd-93d3-2d661fc12001",
        "outputId": "7700adaa-1703-47f2-908f-212560ef17d9",
        "colab": {
          "base_uri": "https://localhost:8080/"
        }
      },
      "outputs": [
        {
          "output_type": "stream",
          "name": "stdout",
          "text": [
            "Qiskit version 1.2.2\n",
            "Numpy version 1.26.4\n",
            "Scipy version 1.13.1\n"
          ]
        }
      ],
      "source": [
        "import qiskit\n",
        "from qiskit_aer import AerSimulator\n",
        "print('Qiskit version', qiskit.__version__)\n",
        "import numpy\n",
        "import scipy\n",
        "print(\"Numpy version\", numpy.__version__)\n",
        "print(\"Scipy version\", scipy.__version__)"
      ]
    },
    {
      "cell_type": "code",
      "execution_count": null,
      "id": "0e7883d6-0e8f-4f24-af8f-228c4c79e46f",
      "metadata": {
        "id": "0e7883d6-0e8f-4f24-af8f-228c4c79e46f"
      },
      "outputs": [],
      "source": [
        "from IPython.display import display, Latex, Markdown\n",
        "from matplotlib import pyplot as plt\n",
        "import scipy.linalg as la\n",
        "import numpy as np"
      ]
    },
    {
      "cell_type": "code",
      "execution_count": null,
      "id": "83412cb3-3dac-4059-b2c1-ab9eb7e07fd4",
      "metadata": {
        "id": "83412cb3-3dac-4059-b2c1-ab9eb7e07fd4"
      },
      "outputs": [],
      "source": [
        "from qiskit.circuit import QuantumRegister, ClassicalRegister,QuantumCircuit\n",
        "from qiskit_aer import AerSimulator\n",
        "from qiskit import transpile\n",
        "from qiskit.quantum_info import Statevector\n",
        "from qiskit.quantum_info import Statevector, schmidt_decomposition\n",
        "from qiskit.visualization import plot_histogram, plot_bloch_multivector, array_to_latex"
      ]
    },
    {
      "cell_type": "markdown",
      "id": "565004f4-9361-40cb-b9b5-1cdc6939c9f8",
      "metadata": {
        "id": "565004f4-9361-40cb-b9b5-1cdc6939c9f8"
      },
      "source": [
        "<a id='sec_Notebooks_Circ_1_qubit_2'></a>\n",
        "## Envío de trabajos a un ordenador real de IBM   "
      ]
    },
    {
      "cell_type": "markdown",
      "id": "7857239b-9053-4fb7-a8e5-6d6a98a76ab3",
      "metadata": {
        "id": "7857239b-9053-4fb7-a8e5-6d6a98a76ab3"
      },
      "source": [
        "Para enviar trabajos a los ordenadores cuánticos de IBM, **en primer lugar necesitamos es una cuenta en [IBMid](https://quantum-computing.ibm.com/).**\n",
        "\n",
        "Una vez creada la cuenta, hay que tomar el **token** que aparece en la página principal. Este lo pegamos en la línea comentada más abajo, cuando el cliente realiza la conexión."
      ]
    },
    {
      "cell_type": "markdown",
      "id": "37bb73a3-25bd-4c2e-8c6f-39b42824324a",
      "metadata": {
        "id": "37bb73a3-25bd-4c2e-8c6f-39b42824324a"
      },
      "source": [
        "Vamos a usar ```qiskit_ibm_runtime``` para mandar trabajos y vamos a usar la primitive sampler\n",
        "- Mas información sobre como guardar la cuenta: https://docs.quantum.ibm.com/guides/setup-channel\n",
        "- Más información sobre las primitives: https://docs.quantum.ibm.com/guides/get-started-with-primitives\n",
        "- Más información sobre lanzar sobre el HW real: https://docs.quantum.ibm.com/guides/hello-world#step-4-analyze-the-results"
      ]
    },
    {
      "cell_type": "markdown",
      "id": "481542bb-a4b4-480a-ad48-3b0fe97869e3",
      "metadata": {
        "id": "481542bb-a4b4-480a-ad48-3b0fe97869e3"
      },
      "source": [
        "### Creamos un circuito para probar"
      ]
    },
    {
      "cell_type": "code",
      "execution_count": null,
      "id": "39aaa46e-2493-4a8c-b7c5-e68ff842297d",
      "metadata": {
        "id": "39aaa46e-2493-4a8c-b7c5-e68ff842297d",
        "outputId": "d0167b53-8b36-4ba0-da42-3588e04902fa",
        "colab": {
          "base_uri": "https://localhost:8080/",
          "height": 191
        }
      },
      "outputs": [
        {
          "output_type": "display_data",
          "data": {
            "text/plain": [
              "<Figure size 287.496x200.667 with 1 Axes>"
            ],
            "image/png": "[encoded data removed]"
          },
          "metadata": {}
        }
      ],
      "source": [
        "# Creamos el circuito pasandole los registros\n",
        "qr = QuantumRegister(1)\n",
        "cr = ClassicalRegister(1)\n",
        "circuit_H = QuantumCircuit(qr, cr)\n",
        "\n",
        "# Añadimos la puerta X al primer (y único) qúbit\n",
        "circuit_H.h(0)\n",
        "\n",
        "# Añadimos el medidor\n",
        "circuit_H.measure(qr, cr)\n",
        "\n",
        "# Podemos dibujarlo como figura de matplolib\n",
        "display(circuit_H.draw(output='mpl', style=\"iqp\"))"
      ]
    },
    {
      "cell_type": "markdown",
      "id": "167f2543-c3fc-4f29-b777-c21c4721bcf1",
      "metadata": {
        "id": "167f2543-c3fc-4f29-b777-c21c4721bcf1"
      },
      "source": [
        "### Inicializamos la cuenta"
      ]
    },
    {
      "cell_type": "markdown",
      "id": "07b471fa-f581-4994-873d-499d0cec078d",
      "metadata": {
        "id": "07b471fa-f581-4994-873d-499d0cec078d"
      },
      "source": [
        "Dado que Qiskit Runtime `Sampler` es un servicio gestionado, primero debe inicializar su cuenta. A continuación, puede seleccionar el simulador o el sistema real que desea utilizar para calcular el valor esperado"
      ]
    },
    {
      "cell_type": "code",
      "execution_count": null,
      "id": "c7e490e9-0f53-4c1f-a93b-64be0c867025",
      "metadata": {
        "scrolled": true,
        "id": "c7e490e9-0f53-4c1f-a93b-64be0c867025"
      },
      "outputs": [],
      "source": [
        "from qiskit_ibm_runtime import QiskitRuntimeService\n",
        "\n",
        "# Save an IBM Quantum account and set it as your default account.\n",
        "#MY_API_TOKEN=\"...\"\n",
        "QiskitRuntimeService.save_account(\n",
        "    channel=\"ibm_quantum\",\n",
        "    token='...',\n",
        "    set_as_default=True,\n",
        "    # Use `overwrite=True` if you're updating your token.\n",
        "    overwrite=True,\n",
        ")\n",
        "\n",
        "service = QiskitRuntimeService()\n",
        "backend = service.least_busy(operational=True, simulator=False, min_num_qubits=5)"
      ]
    },
    {
      "cell_type": "markdown",
      "id": "024165d5-07c3-4b8e-bf60-707f4e97d361",
      "metadata": {
        "id": "024165d5-07c3-4b8e-bf60-707f4e97d361"
      },
      "source": [
        "Veamos el backend (ordenador) escogido:"
      ]
    },
    {
      "cell_type": "code",
      "execution_count": null,
      "id": "8f4c389b-2056-45cb-9326-eaa5728f56a8",
      "metadata": {
        "scrolled": true,
        "id": "8f4c389b-2056-45cb-9326-eaa5728f56a8",
        "outputId": "ca12d1ae-fecf-452d-d078-0121a21d1e70",
        "colab": {
          "base_uri": "https://localhost:8080/"
        }
      },
      "outputs": [
        {
          "output_type": "stream",
          "name": "stdout",
          "text": [
            "<IBMBackend('ibm_brisbane')>\n"
          ]
        }
      ],
      "source": [
        "print(backend)"
      ]
    },
    {
      "cell_type": "markdown",
      "id": "a5c83201-bd3d-4019-92a0-d07842bbbe09",
      "metadata": {
        "id": "a5c83201-bd3d-4019-92a0-d07842bbbe09"
      },
      "source": [
        "### Preparamos el circuito"
      ]
    },
    {
      "cell_type": "markdown",
      "id": "4138f94c-80bd-4fb0-b1f2-3ce20c373774",
      "metadata": {
        "id": "4138f94c-80bd-4fb0-b1f2-3ce20c373774"
      },
      "source": [
        "Vamos a mandar a ejecutar en hardware real el circuito de la puerta H.\n",
        "\n",
        "Para ello, primero tenemos que generarl el ISA circuit"
      ]
    },
    {
      "cell_type": "code",
      "execution_count": null,
      "id": "04164261-a17a-4259-befe-7fe5b89decdd",
      "metadata": {
        "id": "04164261-a17a-4259-befe-7fe5b89decdd"
      },
      "outputs": [],
      "source": [
        "from qiskit.transpiler.preset_passmanagers import generate_preset_pass_manager\n",
        "\n",
        "pm = generate_preset_pass_manager(optimization_level=1, backend=backend)\n",
        "isa_circuit_H = pm.run(circuit_H)"
      ]
    },
    {
      "cell_type": "markdown",
      "id": "a43486e5-4263-4755-b4fe-cf490cd3e1a7",
      "metadata": {
        "id": "a43486e5-4263-4755-b4fe-cf490cd3e1a7"
      },
      "source": [
        "### Inicializamos el Qiskit Runtime Sampler"
      ]
    },
    {
      "cell_type": "markdown",
      "id": "17b2b6a8-f349-40c6-a42c-e41b454e2a3a",
      "metadata": {
        "id": "17b2b6a8-f349-40c6-a42c-e41b454e2a3a"
      },
      "source": [
        "Al inicializar el `Sampler`, utilice el parámetro `mode` para especificar el modo en el que desea que se ejecute."
      ]
    },
    {
      "cell_type": "code",
      "execution_count": null,
      "id": "8d8cd040-5bad-42f2-a43b-85bb96e9a51a",
      "metadata": {
        "id": "8d8cd040-5bad-42f2-a43b-85bb96e9a51a"
      },
      "outputs": [],
      "source": [
        "#from qiskit_ibm_runtime import Sampler\n",
        "#sampler = Sampler(backend=backend)\n",
        "\n",
        "#Para versiones modernas de Qiskit\n",
        "from qiskit_ibm_runtime import SamplerV2 as Sampler\n",
        "sampler = Sampler(mode=backend)"
      ]
    },
    {
      "cell_type": "markdown",
      "id": "904e9351-4748-49dc-9ceb-cff96940191c",
      "metadata": {
        "id": "904e9351-4748-49dc-9ceb-cff96940191c"
      },
      "source": [
        "### Invocamos el sampler y obtenemos los resultados"
      ]
    },
    {
      "cell_type": "code",
      "execution_count": null,
      "id": "71683f74-8c7c-4653-bff1-5b8dea3bc0b2",
      "metadata": {
        "id": "71683f74-8c7c-4653-bff1-5b8dea3bc0b2",
        "outputId": "49326e91-1efc-4298-89af-25b388ccccc9",
        "colab": {
          "base_uri": "https://localhost:8080/"
        }
      },
      "outputs": [
        {
          "output_type": "stream",
          "name": "stdout",
          "text": [
            ">>> Job ID: cwk331m31we000889tfg\n",
            ">>> Job Status: QUEUED\n"
          ]
        }
      ],
      "source": [
        "job = sampler.run([isa_circuit_H])\n",
        "print(f\">>> Job ID: {job.job_id()}\")\n",
        "print(f\">>> Job Status: {job.status()}\")"
      ]
    },
    {
      "cell_type": "markdown",
      "id": "5caaca16-19f3-48e4-9d0c-1a3359078e4e",
      "metadata": {
        "id": "5caaca16-19f3-48e4-9d0c-1a3359078e4e"
      },
      "source": [
        "Podemos monitorizar desde el notebook en que estado está nuestro trabajo.\n",
        "\n",
        "Otra obción es hacerlo desde la web de los servicios cuánticos de IBM: **[https://quantum-computing.ibm.com/jobs](https://quantum-computing.ibm.com/jobs)**\n",
        "\n",
        "La celda siguiente podemos correrla tantas veces como queramos para ver como está nuestro trabajo."
      ]
    },
    {
      "cell_type": "code",
      "execution_count": null,
      "id": "cc7ff9fa-623f-4402-b472-cb9185a21c07",
      "metadata": {
        "scrolled": true,
        "id": "cc7ff9fa-623f-4402-b472-cb9185a21c07",
        "outputId": "4323a011-7960-4e43-ac22-6b93724db8ff",
        "colab": {
          "base_uri": "https://localhost:8080/",
          "height": 35
        }
      },
      "outputs": [
        {
          "output_type": "execute_result",
          "data": {
            "text/plain": [
              "'QUEUED'"
            ],
            "application/vnd.google.colaboratory.intrinsic+json": {
              "type": "string"
            }
          },
          "metadata": {},
          "execution_count": 22
        }
      ],
      "source": [
        "job.status()"
      ]
    },
    {
      "cell_type": "code",
      "execution_count": null,
      "id": "56a48a12-08c6-46d8-aa63-16c605279ff8",
      "metadata": {
        "id": "56a48a12-08c6-46d8-aa63-16c605279ff8"
      },
      "outputs": [],
      "source": [
        "import time\n",
        "time.sleep(30)"
      ]
    },
    {
      "cell_type": "code",
      "execution_count": null,
      "id": "21f464a5-ca4b-4fbf-aab9-2b49fe800e00",
      "metadata": {
        "id": "21f464a5-ca4b-4fbf-aab9-2b49fe800e00",
        "outputId": "06166531-8db7-4ca2-accd-96252a4b1667",
        "colab": {
          "base_uri": "https://localhost:8080/",
          "height": 35
        }
      },
      "outputs": [
        {
          "output_type": "execute_result",
          "data": {
            "text/plain": [
              "'DONE'"
            ],
            "application/vnd.google.colaboratory.intrinsic+json": {
              "type": "string"
            }
          },
          "metadata": {},
          "execution_count": 32
        }
      ],
      "source": [
        "job.status()"
      ]
    },
    {
      "cell_type": "code",
      "execution_count": null,
      "id": "dfa9b051-d3ce-44b5-bb10-1da1fef832c5",
      "metadata": {
        "id": "dfa9b051-d3ce-44b5-bb10-1da1fef832c5",
        "outputId": "3d9aa9e7-62ad-4ec1-cd6b-916976b33f5b",
        "colab": {
          "base_uri": "https://localhost:8080/"
        }
      },
      "outputs": [
        {
          "output_type": "stream",
          "name": "stdout",
          "text": [
            "DONE\n"
          ]
        }
      ],
      "source": [
        "print(job.status())"
      ]
    },
    {
      "cell_type": "markdown",
      "id": "70c510cf-2b4f-4a34-96d2-f35d16c5f877",
      "metadata": {
        "id": "70c510cf-2b4f-4a34-96d2-f35d16c5f877"
      },
      "source": [
        "También podemos usar el job_monitor, que se actualiza solo sin tener que ejecutar varias veces la celda."
      ]
    },
    {
      "cell_type": "code",
      "execution_count": null,
      "id": "f9c74836-26b9-4cf6-82a7-512c3ff595cd",
      "metadata": {
        "id": "f9c74836-26b9-4cf6-82a7-512c3ff595cd"
      },
      "outputs": [],
      "source": [
        "#job_monitor(job, interval = 10, line_discipline = '\\n')"
      ]
    },
    {
      "cell_type": "code",
      "execution_count": null,
      "id": "e48a61b0-6585-4cf0-9131-e5cf3d34b202",
      "metadata": {
        "id": "e48a61b0-6585-4cf0-9131-e5cf3d34b202",
        "outputId": "fb9af6ff-9116-4dc6-ab15-1f3b35435422",
        "colab": {
          "base_uri": "https://localhost:8080/"
        }
      },
      "outputs": [
        {
          "output_type": "stream",
          "name": "stdout",
          "text": [
            ">>> PrimitiveResult([SamplerPubResult(data=DataBin(c0=BitArray(<shape=(), num_shots=4096, num_bits=1>)), metadata={'circuit_metadata': {}})], metadata={'execution': {'execution_spans': ExecutionSpans([SliceSpan(<start='2024-11-02 14:42:59', stop='2024-11-02 14:43:19', size=4096>)])}, 'version': 2})\n",
            "\n"
          ]
        }
      ],
      "source": [
        "result_IBM = job.result()\n",
        "print(f\">>> {result_IBM}\\n\")\n",
        "try:\n",
        "    print(f\"  > Quasi-probability distribution: {result_IBM.quasi_dists[0]}\\n\")\n",
        "    print(f\"  > Metadata: {result_IBM.metadata[0]}\\n\")\n",
        "except:\n",
        "    pass"
      ]
    },
    {
      "cell_type": "markdown",
      "id": "2b5e3252-19ca-4c93-9ff3-e4c0a4d379fa",
      "metadata": {
        "id": "2b5e3252-19ca-4c93-9ff3-e4c0a4d379fa"
      },
      "source": [
        "<a id='sec_Notebooks_Circ_1_qubit_2.1'></a>\n",
        "### Recuperar resultados de trabajos anteriores con el job id"
      ]
    },
    {
      "cell_type": "markdown",
      "id": "39de67b5-bbdc-4783-a043-640808a1405d",
      "metadata": {
        "id": "39de67b5-bbdc-4783-a043-640808a1405d"
      },
      "source": [
        "Es importante guardar el Job Id, pues con el podemos recuperar los resultados de un trabajo anterior. Por ejemplo, lo que podemos hacer es ejecutar un circuito y si vemos usando `job.status()` que tarda mucho en entrar en ejecución, podemos anotarnos el id y otro ver los resultado, sin tener que dejar el Notebook abierto."
      ]
    },
    {
      "cell_type": "code",
      "execution_count": null,
      "id": "bf7c84a9-7aa5-4661-b426-91d5cf0c986e",
      "metadata": {
        "id": "bf7c84a9-7aa5-4661-b426-91d5cf0c986e",
        "outputId": "b7a716b8-e2a0-42b6-d9e4-b618da8a188f",
        "colab": {
          "base_uri": "https://localhost:8080/"
        }
      },
      "outputs": [
        {
          "output_type": "stream",
          "name": "stdout",
          "text": [
            "job id = cwk331m31we000889tfg\n"
          ]
        }
      ],
      "source": [
        "# Utilizar el job anterior o poner uno existente\n",
        "# Ver: https://quantum.ibm.com/workloads para la lista de jobs\n",
        "\n",
        "#job_id=\"cwk331m31we000889tfg\"\n",
        "job_id = job.job_id()\n",
        "print(f\"job id = {job_id}\")"
      ]
    },
    {
      "cell_type": "code",
      "execution_count": null,
      "id": "f531dc68-f751-48c7-acaf-ab59ee336389",
      "metadata": {
        "id": "f531dc68-f751-48c7-acaf-ab59ee336389",
        "outputId": "abfcc04c-8ce8-4f6e-8b24-9bb78c54c66f",
        "colab": {
          "base_uri": "https://localhost:8080/",
          "height": 399
        }
      },
      "outputs": [
        {
          "output_type": "display_data",
          "data": {
            "text/plain": [
              "[<RuntimeJob('cwk331m31we000889tfg', 'sampler')>]"
            ]
          },
          "metadata": {}
        },
        {
          "output_type": "stream",
          "name": "stdout",
          "text": [
            "---\n"
          ]
        },
        {
          "output_type": "display_data",
          "data": {
            "text/plain": [
              "<RuntimeJobV2('cwk331m31we000889tfg', 'sampler')>"
            ]
          },
          "metadata": {}
        },
        {
          "output_type": "stream",
          "name": "stdout",
          "text": [
            "---\n"
          ]
        },
        {
          "output_type": "display_data",
          "data": {
            "text/plain": [
              "{'bss': {'seconds': 3},\n",
              " 'usage': {'quantum_seconds': 3, 'seconds': 3},\n",
              " 'timestamps': {'created': '2024-11-02T14:04:54.158Z',\n",
              "  'finished': '2024-11-02T14:43:19.448Z',\n",
              "  'running': '2024-11-02T14:42:55.448Z'},\n",
              " 'executions': 4096,\n",
              " 'num_circuits': 1,\n",
              " 'num_qubits': [127],\n",
              " 'circuit_depths': [4],\n",
              " 'qiskit_version': 'qiskit_ibm_runtime-0.32.0,qiskit-1.2.2*,qiskit_aer-0.15.1*',\n",
              " 'estimated_start_time': '2024-11-02T14:42:54.376Z',\n",
              " 'estimated_completion_time': '2024-11-02T14:42:57.376Z',\n",
              " 'position_in_queue': None,\n",
              " 'position_in_provider': None}"
            ]
          },
          "metadata": {}
        },
        {
          "output_type": "stream",
          "name": "stdout",
          "text": [
            "---\n"
          ]
        },
        {
          "output_type": "display_data",
          "data": {
            "text/plain": [
              "PrimitiveResult([SamplerPubResult(data=DataBin(c0=BitArray(<shape=(), num_shots=4096, num_bits=1>)), metadata={'circuit_metadata': {}})], metadata={'execution': {'execution_spans': ExecutionSpans([SliceSpan(<start='2024-11-02 14:42:59', stop='2024-11-02 14:43:19', size=4096>)])}, 'version': 2})"
            ]
          },
          "metadata": {}
        },
        {
          "output_type": "stream",
          "name": "stdout",
          "text": [
            "---\n"
          ]
        }
      ],
      "source": [
        "# Podemos listar todos los jobs\n",
        "jobs = service.jobs()\n",
        "display(jobs)\n",
        "print(\"---\")\n",
        "\n",
        "# Coger uno en particular\n",
        "job = service.job(job_id)\n",
        "display(job)\n",
        "print(\"---\")\n",
        "\n",
        "# Métricas de la ejecución\n",
        "jmet = job.metrics()\n",
        "display(jmet)\n",
        "print(\"---\")\n",
        "\n",
        "# Resultado de la ejecución (de aquí obtenemos el histograma)\n",
        "job_result = job.result()\n",
        "display(job_result)\n",
        "print(\"---\")"
      ]
    },
    {
      "cell_type": "code",
      "execution_count": null,
      "id": "d01106ae-7109-4c8b-8961-204a961f357d",
      "metadata": {
        "id": "d01106ae-7109-4c8b-8961-204a961f357d",
        "outputId": "8c74d296-81f7-401b-cb1c-44d3c925f10e",
        "colab": {
          "base_uri": "https://localhost:8080/",
          "height": 34
        }
      },
      "outputs": [
        {
          "output_type": "display_data",
          "data": {
            "text/plain": [
              "{'1': 2114, '0': 1982}"
            ]
          },
          "metadata": {}
        }
      ],
      "source": [
        "# Pinchando en un job particular en https://quantum.ibm.com/workloads\n",
        "# se muestra un código para obtener los resultados del job\n",
        "\n",
        "# To get counts for a particular pub result, use\n",
        "#\n",
        "# pub_result = job_result[<idx>].data.<classical register>.get_counts()\n",
        "#\n",
        "# where <idx> is the index of the pub and <classical register> is the name of the classical register.\n",
        "# You can use circuit.cregs to find the name of the classical registers.\n",
        "\n",
        "pub_result = job_result[0].data.c0.get_counts()\n",
        "display(pub_result)"
      ]
    },
    {
      "cell_type": "code",
      "execution_count": null,
      "id": "6509fefc-aec6-4777-a151-50a8324b68e7",
      "metadata": {
        "id": "6509fefc-aec6-4777-a151-50a8324b68e7",
        "outputId": "e94d4d4a-2796-404d-b06d-371f2aa23420",
        "colab": {
          "base_uri": "https://localhost:8080/",
          "height": 220
        }
      },
      "outputs": [
        {
          "output_type": "display_data",
          "data": {
            "text/plain": [
              "<Figure size 200x200 with 1 Axes>"
            ],
            "image/png": "[encoded data removed]"
          },
          "metadata": {}
        }
      ],
      "source": [
        "display(plot_histogram(pub_result, figsize=(2,2)))\n"
      ]
    },
    {
      "cell_type": "markdown",
      "id": "1154b238-4e2d-4ac8-8019-f1e4e7a14e71",
      "metadata": {
        "id": "1154b238-4e2d-4ac8-8019-f1e4e7a14e71"
      },
      "source": [
        "### Más sobre el HW cuántico IBM"
      ]
    },
    {
      "cell_type": "code",
      "execution_count": null,
      "id": "1bbaaa41-22ca-4db4-a6c9-79d456d5f82a",
      "metadata": {
        "id": "1bbaaa41-22ca-4db4-a6c9-79d456d5f82a",
        "outputId": "0bb14f49-92e1-413c-8cd1-14033bb90d45",
        "colab": {
          "base_uri": "https://localhost:8080/"
        }
      },
      "outputs": [
        {
          "output_type": "stream",
          "name": "stdout",
          "text": [
            "ibm_brisbane\n",
            "ibm_kyiv\n",
            "ibm_sherbrooke\n"
          ]
        }
      ],
      "source": [
        "# Listar todos los backend públicos disponibles\n",
        "be = []\n",
        "backends = service.backends()\n",
        "for backend in backends:\n",
        "    print(backend.name)\n",
        "    be.append(backend)"
      ]
    },
    {
      "cell_type": "code",
      "execution_count": null,
      "id": "b04e2798-badc-446b-942b-563d083e00c8",
      "metadata": {
        "id": "b04e2798-badc-446b-942b-563d083e00c8",
        "outputId": "3354742c-04d7-46f3-e22a-a87cec46c578",
        "colab": {
          "base_uri": "https://localhost:8080/",
          "height": 364
        }
      },
      "outputs": [
        {
          "output_type": "display_data",
          "data": {
            "text/plain": [
              "<qiskit_ibm_runtime.models.backend_status.BackendStatus at 0x7f53908d45b0>"
            ],
            "text/html": [
              "<pre>&lt;qiskit_ibm_runtime.models.backend_status.BackendStatus object at 0x7f53908d45b0&gt;</pre><b>name</b>: ibm_brisbane<br/><b>version</b>: , <b>pending jobs</b>: 28<br/><b>status</b>: active<br/>"
            ]
          },
          "metadata": {}
        },
        {
          "output_type": "display_data",
          "data": {
            "text/plain": [
              "{'backend_name': 'ibm_brisbane',\n",
              " 'backend_version': '',\n",
              " 'operational': True,\n",
              " 'pending_jobs': 28,\n",
              " 'status_msg': 'active'}"
            ]
          },
          "metadata": {}
        },
        {
          "output_type": "stream",
          "name": "stdout",
          "text": [
            "--------\n",
            "\n"
          ]
        },
        {
          "output_type": "display_data",
          "data": {
            "text/plain": [
              "<qiskit_ibm_runtime.models.backend_configuration.PulseBackendConfiguration at 0x7f53908d78b0>"
            ]
          },
          "metadata": {}
        },
        {
          "output_type": "stream",
          "name": "stdout",
          "text": [
            "# qubits:127\n",
            "--------\n",
            "\n"
          ]
        },
        {
          "output_type": "display_data",
          "data": {
            "text/plain": [
              "<qiskit_ibm_runtime.models.backend_properties.BackendProperties at 0x7f53908d4670>"
            ]
          },
          "metadata": {}
        },
        {
          "output_type": "stream",
          "name": "stdout",
          "text": [
            "qubit 0, T1=0.000174\n",
            "qubit 0, T2=0.000056\n",
            "--------\n",
            "\n"
          ]
        }
      ],
      "source": [
        "# Obtener detalles sobre un 'backend' particular (i.e., 'ibmq_manila')\n",
        "\n",
        "#backend_name = 'ibmq_kyiv'  # Sustituir por el nombre del backend\n",
        "#backend = service.backend(backend_name)\n",
        "\n",
        "backend = be[0] # Vamos a coger uno de ellos, el primero\n",
        "\n",
        "# Backend status\n",
        "display(backend.status())\n",
        "display(backend.status().to_dict())\n",
        "print(\"--------\\n\")\n",
        "\n",
        "\n",
        "# Backend configuration\n",
        "display(backend.configuration())\n",
        "#display(backend.configuration().to_dict())\n",
        "nqubits = backend.configuration().num_qubits\n",
        "print(\"# qubits:{0}\".format(nqubits))\n",
        "print(\"--------\\n\")\n",
        "\n",
        "# Backend properties\n",
        "display(backend.properties())\n",
        "# display(backend.properties().to_dict())\n",
        "# Tiempos de decoherencia qubit 0\n",
        "print(\"qubit 0, T1={:.6f}\".format(backend.properties().t1(0).real))\n",
        "print(\"qubit 0, T2={:.6f}\".format(backend.properties().t2(0).real))\n",
        "print(\"--------\\n\")\n"
      ]
    },
    {
      "cell_type": "code",
      "source": [
        "# prompt: Busca infomación sobre los parámetros de decoherencia T1, y T2:\n",
        "# ¿qué significan?\n",
        "# ¿de qué manera empírica se podrían obtener?\n",
        "\n",
        "# T1 and T2 decoherence parameters in quantum computing\n",
        "\n",
        "# What do T1 and T2 mean?\n",
        "\n",
        "# T1 (energy relaxation time):  Represents the time it takes for a qubit in an excited state (|1⟩) to decay to its ground state (|0⟩) due to energy dissipation to the environment.  A longer T1 indicates a qubit's state is less susceptible to energy relaxation.\n",
        "\n",
        "# T2 (phase relaxation time or dephasing time): Represents the time it takes for the superposition state of a qubit to lose its coherence (phase relationship between |0⟩ and |1⟩). Dephasing happens when the qubit's environment influences its phase, causing the superposition state to lose its distinct quantum properties. T2 is usually shorter than or equal to T1, as both energy relaxation and dephasing contribute to overall coherence loss.\n",
        "\n",
        "# How to obtain T1 and T2 empirically?\n",
        "\n",
        "# Standard techniques involve Ramsey experiments and inversion recovery experiments. These techniques use specific pulse sequences applied to the qubit:\n",
        "\n",
        "# 1. Ramsey Experiment (for T2 measurement):\n",
        "#  - Prepare the qubit in a superposition state (e.g., using a Hadamard gate).\n",
        "#  - Apply a short delay (variable).\n",
        "#  - Apply a second pulse (pi/2 rotation) to measure along the x or y axes.\n",
        "#  - Measure the qubit's state repeatedly for multiple delay times.\n",
        "#  - The measured probability of observing the qubit in a particular state will oscillate with the delay time. The decay of these oscillations gives information about T2.\n",
        "\n",
        "# 2. Inversion Recovery Experiment (for T1 measurement):\n",
        "#  - Prepare the qubit in its ground state (|0⟩).\n",
        "#  - Apply a pi-pulse (180-degree rotation) to invert the state to |1⟩.\n",
        "#  - Apply a variable delay time.\n",
        "#  - Measure the probability of observing the qubit in state |1⟩.\n",
        "#  - The measured probability will recover exponentially to 1 from 0 with the delay time, and the recovery time constant directly related to T1.\n",
        "\n",
        "# Qiskit and IBM Quantum:\n",
        "#\n",
        "# The provided code snippet already demonstrates how to obtain T1 and T2 values from the IBM Quantum backend:\n",
        "#\n",
        "# ```python\n",
        "# # ... (previous code)\n",
        "#\n",
        "# backend = be[0]  # Assuming 'be' is a list of backends.\n",
        "# print(\"qubit 0, T1={:.6f}\".format(backend.properties().t1(0).real))\n",
        "# print(\"qubit 0, T2={:.6f}\".format(backend.properties().t2(0).real))\n",
        "#\n",
        "# # ... (rest of the code)\n",
        "# ```\n",
        "\n",
        "# The `backend.properties()` object contains the measured T1 and T2 times for each qubit.\n",
        "\n",
        "# Key takeaway:  These times are crucial for understanding the coherence properties of the qubits and for designing quantum algorithms and error mitigation strategies.  The shorter these times, the more difficult it is to perform computations with high fidelity."
      ],
      "metadata": {
        "id": "MGutw9JPWVH4"
      },
      "id": "MGutw9JPWVH4",
      "execution_count": null,
      "outputs": []
    },
    {
      "cell_type": "code",
      "source": [
        "# prompt: Obtén alguna(s) medida(s) de las tasas de error que se proporcionan (por ejemplo de lectura de un qubit, o de alguna puerta). Para ello investiga la lista de propiedades proporcionada por el método backend.properties().\n",
        "\n",
        "# Accessing and displaying readout error rates\n",
        "for i in range(nqubits):\n",
        "  print(f\"Qubit {i}: Readout error rate = {backend.properties().readout_error(i)}\")"
      ],
      "metadata": {
        "id": "OxAAmLzvWfiR",
        "outputId": "0678da58-4511-4735-d97f-c55e2a21646b",
        "colab": {
          "base_uri": "https://localhost:8080/"
        }
      },
      "id": "OxAAmLzvWfiR",
      "execution_count": null,
      "outputs": [
        {
          "output_type": "stream",
          "name": "stdout",
          "text": [
            "Qubit 0: Readout error rate = 0.024899999999999922\n",
            "Qubit 1: Readout error rate = 0.04259999999999997\n",
            "Qubit 2: Readout error rate = 0.009100000000000108\n",
            "Qubit 3: Readout error rate = 0.031400000000000095\n",
            "Qubit 4: Readout error rate = 0.014399999999999968\n",
            "Qubit 5: Readout error rate = 0.00550000000000006\n",
            "Qubit 6: Readout error rate = 0.012699999999999934\n",
            "Qubit 7: Readout error rate = 0.021100000000000008\n",
            "Qubit 8: Readout error rate = 0.006399999999999961\n",
            "Qubit 9: Readout error rate = 0.008000000000000007\n",
            "Qubit 10: Readout error rate = 0.01639999999999997\n",
            "Qubit 11: Readout error rate = 0.13949999999999996\n",
            "Qubit 12: Readout error rate = 0.016599999999999948\n",
            "Qubit 13: Readout error rate = 0.012299999999999978\n",
            "Qubit 14: Readout error rate = 0.015700000000000047\n",
            "Qubit 15: Readout error rate = 0.017400000000000082\n",
            "Qubit 16: Readout error rate = 0.020100000000000007\n",
            "Qubit 17: Readout error rate = 0.011400000000000077\n",
            "Qubit 18: Readout error rate = 0.09850000000000003\n",
            "Qubit 19: Readout error rate = 0.08460000000000001\n",
            "Qubit 20: Readout error rate = 0.01770000000000005\n",
            "Qubit 21: Readout error rate = 0.007500000000000062\n",
            "Qubit 22: Readout error rate = 0.015000000000000013\n",
            "Qubit 23: Readout error rate = 0.023600000000000065\n",
            "Qubit 24: Readout error rate = 0.12719999999999998\n",
            "Qubit 25: Readout error rate = 0.02279999999999993\n",
            "Qubit 26: Readout error rate = 0.009099999999999997\n",
            "Qubit 27: Readout error rate = 0.062000000000000055\n",
            "Qubit 28: Readout error rate = 0.04079999999999995\n",
            "Qubit 29: Readout error rate = 0.12569999999999992\n",
            "Qubit 30: Readout error rate = 0.006000000000000005\n",
            "Qubit 31: Readout error rate = 0.007099999999999995\n",
            "Qubit 32: Readout error rate = 0.01100000000000001\n",
            "Qubit 33: Readout error rate = 0.01539999999999997\n",
            "Qubit 34: Readout error rate = 0.02740000000000009\n",
            "Qubit 35: Readout error rate = 0.014599999999999946\n",
            "Qubit 36: Readout error rate = 0.01079999999999992\n",
            "Qubit 37: Readout error rate = 0.014499999999999957\n",
            "Qubit 38: Readout error rate = 0.015100000000000002\n",
            "Qubit 39: Readout error rate = 0.031299999999999994\n",
            "Qubit 40: Readout error rate = 0.012599999999999945\n",
            "Qubit 41: Readout error rate = 0.00539999999999996\n",
            "Qubit 42: Readout error rate = 0.0242\n",
            "Qubit 43: Readout error rate = 0.024799999999999933\n",
            "Qubit 44: Readout error rate = 0.026499999999999968\n",
            "Qubit 45: Readout error rate = 0.05469999999999997\n",
            "Qubit 46: Readout error rate = 0.013800000000000034\n",
            "Qubit 47: Readout error rate = 0.00649999999999995\n",
            "Qubit 48: Readout error rate = 0.01529999999999998\n",
            "Qubit 49: Readout error rate = 0.008199999999999985\n",
            "Qubit 50: Readout error rate = 0.02760000000000007\n",
            "Qubit 51: Readout error rate = 0.010800000000000032\n",
            "Qubit 52: Readout error rate = 0.009700000000000042\n",
            "Qubit 53: Readout error rate = 0.008299999999999974\n",
            "Qubit 54: Readout error rate = 0.016699999999999937\n",
            "Qubit 55: Readout error rate = 0.01090000000000002\n",
            "Qubit 56: Readout error rate = 0.01079999999999992\n",
            "Qubit 57: Readout error rate = 0.010599999999999943\n",
            "Qubit 58: Readout error rate = 0.01639999999999997\n",
            "Qubit 59: Readout error rate = 0.013800000000000034\n",
            "Qubit 60: Readout error rate = 0.021600000000000064\n",
            "Qubit 61: Readout error rate = 0.026100000000000012\n",
            "Qubit 62: Readout error rate = 0.010399999999999965\n",
            "Qubit 63: Readout error rate = 0.010800000000000032\n",
            "Qubit 64: Readout error rate = 0.008399999999999963\n",
            "Qubit 65: Readout error rate = 0.012299999999999978\n",
            "Qubit 66: Readout error rate = 0.05709999999999993\n",
            "Qubit 67: Readout error rate = 0.05840000000000001\n",
            "Qubit 68: Readout error rate = 0.02960000000000007\n",
            "Qubit 69: Readout error rate = 0.008299999999999974\n",
            "Qubit 70: Readout error rate = 0.06529999999999991\n",
            "Qubit 71: Readout error rate = 0.01200000000000001\n",
            "Qubit 72: Readout error rate = 0.015900000000000025\n",
            "Qubit 73: Readout error rate = 0.010699999999999932\n",
            "Qubit 74: Readout error rate = 0.011900000000000022\n",
            "Qubit 75: Readout error rate = 0.01540000000000008\n",
            "Qubit 76: Readout error rate = 0.011600000000000055\n",
            "Qubit 77: Readout error rate = 0.033299999999999996\n",
            "Qubit 78: Readout error rate = 0.012199999999999989\n",
            "Qubit 79: Readout error rate = 0.009299999999999975\n",
            "Qubit 80: Readout error rate = 0.021700000000000053\n",
            "Qubit 81: Readout error rate = 0.043200000000000016\n",
            "Qubit 82: Readout error rate = 0.016899999999999915\n",
            "Qubit 83: Readout error rate = 0.014699999999999935\n",
            "Qubit 84: Readout error rate = 0.008600000000000052\n",
            "Qubit 85: Readout error rate = 0.011400000000000077\n",
            "Qubit 86: Readout error rate = 0.16270000000000007\n",
            "Qubit 87: Readout error rate = 0.019399999999999973\n",
            "Qubit 88: Readout error rate = 0.014799999999999924\n",
            "Qubit 89: Readout error rate = 0.013700000000000045\n",
            "Qubit 90: Readout error rate = 0.008199999999999985\n",
            "Qubit 91: Readout error rate = 0.042300000000000004\n",
            "Qubit 92: Readout error rate = 0.005700000000000038\n",
            "Qubit 93: Readout error rate = 0.02529999999999999\n",
            "Qubit 94: Readout error rate = 0.010000000000000009\n",
            "Qubit 95: Readout error rate = 0.009500000000000064\n",
            "Qubit 96: Readout error rate = 0.04360000000000008\n",
            "Qubit 97: Readout error rate = 0.007600000000000051\n",
            "Qubit 98: Readout error rate = 0.013800000000000034\n",
            "Qubit 99: Readout error rate = 0.00770000000000004\n",
            "Qubit 100: Readout error rate = 0.009100000000000108\n",
            "Qubit 101: Readout error rate = 0.02210000000000001\n",
            "Qubit 102: Readout error rate = 0.045600000000000085\n",
            "Qubit 103: Readout error rate = 0.007300000000000084\n",
            "Qubit 104: Readout error rate = 0.013800000000000034\n",
            "Qubit 105: Readout error rate = 0.00649999999999995\n",
            "Qubit 106: Readout error rate = 0.026699999999999946\n",
            "Qubit 107: Readout error rate = 0.018899999999999917\n",
            "Qubit 108: Readout error rate = 0.024799999999999933\n",
            "Qubit 109: Readout error rate = 0.021299999999999986\n",
            "Qubit 110: Readout error rate = 0.012499999999999956\n",
            "Qubit 111: Readout error rate = 0.012399999999999967\n",
            "Qubit 112: Readout error rate = 0.005099999999999993\n",
            "Qubit 113: Readout error rate = 0.006599999999999939\n",
            "Qubit 114: Readout error rate = 0.13149999999999995\n",
            "Qubit 115: Readout error rate = 0.010499999999999954\n",
            "Qubit 116: Readout error rate = 0.011700000000000044\n",
            "Qubit 117: Readout error rate = 0.017299999999999982\n",
            "Qubit 118: Readout error rate = 0.006299999999999972\n",
            "Qubit 119: Readout error rate = 0.035499999999999976\n",
            "Qubit 120: Readout error rate = 0.017800000000000038\n",
            "Qubit 121: Readout error rate = 0.01649999999999996\n",
            "Qubit 122: Readout error rate = 0.02059999999999995\n",
            "Qubit 123: Readout error rate = 0.016699999999999937\n",
            "Qubit 124: Readout error rate = 0.006199999999999983\n",
            "Qubit 125: Readout error rate = 0.012299999999999978\n",
            "Qubit 126: Readout error rate = 0.009099999999999997\n"
          ]
        }
      ]
    },
    {
      "cell_type": "markdown",
      "id": "bf696ea2-f965-42eb-b77b-15a3ee26ac13",
      "metadata": {
        "id": "bf696ea2-f965-42eb-b77b-15a3ee26ac13"
      },
      "source": [
        "<div style=\"background-color:#c8e6c9\">\n",
        "<hr>\n",
        "<b>Ejercicio:</b>\n",
        "    \n",
        "<b> <!-- font size=\"+1\"><span style=\"color:red\">[OPCIONAL, PARA OPTAR A NOTA] </span></font --></b>\n",
        "- Busca infomación sobre los parámetros de decoherencia T1, y T2:  \n",
        "  - ¿qué significan?\n",
        "  - ¿de qué manera empírica se podrían obtener?\n",
        "  \n",
        "\n",
        "- Obtén alguna(s) medida(s) de las tasas de error que se proporcionan (por ejemplo de lectura de un qubit, o de alguna puerta). Para ello investiga la lista de propiedades proporcionada por el método <tt>backend.properties()</tt>.\n",
        "\n",
        "<hr>\n",
        "</div>"
      ]
    }
  ],
  "metadata": {
    "kernelspec": {
      "display_name": "Python 3 (ipykernel)",
      "language": "python",
      "name": "python3"
    },
    "language_info": {
      "codemirror_mode": {
        "name": "ipython",
        "version": 3
      },
      "file_extension": ".py",
      "mimetype": "text/x-python",
      "name": "python",
      "nbconvert_exporter": "python",
      "pygments_lexer": "ipython3",
      "version": "3.12.5"
    },
    "colab": {
      "provenance": [],
      "include_colab_link": true
    }
  },
  "nbformat": 4,
  "nbformat_minor": 5
}